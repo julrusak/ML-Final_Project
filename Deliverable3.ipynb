{
 "cells": [
  {
   "cell_type": "code",
   "execution_count": 54,
   "metadata": {},
   "outputs": [],
   "source": [
    "from sklearn.feature_selection import mutual_info_classif\n",
    "import pandas as pd\n",
    "import numpy as np\n",
    "import matplotlib.pyplot as plt\n",
    "import statsmodels.api as sm\n",
    "import seaborn as sns\n",
    "from sklearn import metrics"
   ]
  },
  {
   "cell_type": "code",
   "execution_count": 4,
   "metadata": {},
   "outputs": [],
   "source": [
    "df = pd.read_csv(\"~/Desktop/grad_school_shit/Spring2019/MachineLearning/GroupProject/creditcard.csv\")"
   ]
  },
  {
   "cell_type": "code",
   "execution_count": 5,
   "metadata": {},
   "outputs": [
    {
     "name": "stdout",
     "output_type": "stream",
     "text": [
      "<class 'pandas.core.frame.DataFrame'>\n",
      "RangeIndex: 284807 entries, 0 to 284806\n",
      "Data columns (total 31 columns):\n",
      "Time      284807 non-null float64\n",
      "V1        284807 non-null float64\n",
      "V2        284807 non-null float64\n",
      "V3        284807 non-null float64\n",
      "V4        284807 non-null float64\n",
      "V5        284807 non-null float64\n",
      "V6        284807 non-null float64\n",
      "V7        284807 non-null float64\n",
      "V8        284807 non-null float64\n",
      "V9        284807 non-null float64\n",
      "V10       284807 non-null float64\n",
      "V11       284807 non-null float64\n",
      "V12       284807 non-null float64\n",
      "V13       284807 non-null float64\n",
      "V14       284807 non-null float64\n",
      "V15       284807 non-null float64\n",
      "V16       284807 non-null float64\n",
      "V17       284807 non-null float64\n",
      "V18       284807 non-null float64\n",
      "V19       284807 non-null float64\n",
      "V20       284807 non-null float64\n",
      "V21       284807 non-null float64\n",
      "V22       284807 non-null float64\n",
      "V23       284807 non-null float64\n",
      "V24       284807 non-null float64\n",
      "V25       284807 non-null float64\n",
      "V26       284807 non-null float64\n",
      "V27       284807 non-null float64\n",
      "V28       284807 non-null float64\n",
      "Amount    284807 non-null float64\n",
      "Class     284807 non-null int64\n",
      "dtypes: float64(30), int64(1)\n",
      "memory usage: 67.4 MB\n"
     ]
    }
   ],
   "source": [
    "df.head()\n",
    "df.info()"
   ]
  },
  {
   "cell_type": "code",
   "execution_count": 6,
   "metadata": {},
   "outputs": [
    {
     "data": {
      "text/html": [
       "<div>\n",
       "<style scoped>\n",
       "    .dataframe tbody tr th:only-of-type {\n",
       "        vertical-align: middle;\n",
       "    }\n",
       "\n",
       "    .dataframe tbody tr th {\n",
       "        vertical-align: top;\n",
       "    }\n",
       "\n",
       "    .dataframe thead th {\n",
       "        text-align: right;\n",
       "    }\n",
       "</style>\n",
       "<table border=\"1\" class=\"dataframe\">\n",
       "  <thead>\n",
       "    <tr style=\"text-align: right;\">\n",
       "      <th></th>\n",
       "      <th>Time</th>\n",
       "      <th>V1</th>\n",
       "      <th>V2</th>\n",
       "      <th>V3</th>\n",
       "      <th>V4</th>\n",
       "      <th>V5</th>\n",
       "      <th>V6</th>\n",
       "      <th>V7</th>\n",
       "      <th>V8</th>\n",
       "      <th>V9</th>\n",
       "      <th>...</th>\n",
       "      <th>V20</th>\n",
       "      <th>V21</th>\n",
       "      <th>V22</th>\n",
       "      <th>V23</th>\n",
       "      <th>V24</th>\n",
       "      <th>V25</th>\n",
       "      <th>V26</th>\n",
       "      <th>V27</th>\n",
       "      <th>V28</th>\n",
       "      <th>Amount</th>\n",
       "    </tr>\n",
       "  </thead>\n",
       "  <tbody>\n",
       "    <tr>\n",
       "      <th>0</th>\n",
       "      <td>0.0</td>\n",
       "      <td>-1.359807</td>\n",
       "      <td>-0.072781</td>\n",
       "      <td>2.536347</td>\n",
       "      <td>1.378155</td>\n",
       "      <td>-0.338321</td>\n",
       "      <td>0.462388</td>\n",
       "      <td>0.239599</td>\n",
       "      <td>0.098698</td>\n",
       "      <td>0.363787</td>\n",
       "      <td>...</td>\n",
       "      <td>0.251412</td>\n",
       "      <td>-0.018307</td>\n",
       "      <td>0.277838</td>\n",
       "      <td>-0.110474</td>\n",
       "      <td>0.066928</td>\n",
       "      <td>0.128539</td>\n",
       "      <td>-0.189115</td>\n",
       "      <td>0.133558</td>\n",
       "      <td>-0.021053</td>\n",
       "      <td>149.62</td>\n",
       "    </tr>\n",
       "    <tr>\n",
       "      <th>1</th>\n",
       "      <td>0.0</td>\n",
       "      <td>1.191857</td>\n",
       "      <td>0.266151</td>\n",
       "      <td>0.166480</td>\n",
       "      <td>0.448154</td>\n",
       "      <td>0.060018</td>\n",
       "      <td>-0.082361</td>\n",
       "      <td>-0.078803</td>\n",
       "      <td>0.085102</td>\n",
       "      <td>-0.255425</td>\n",
       "      <td>...</td>\n",
       "      <td>-0.069083</td>\n",
       "      <td>-0.225775</td>\n",
       "      <td>-0.638672</td>\n",
       "      <td>0.101288</td>\n",
       "      <td>-0.339846</td>\n",
       "      <td>0.167170</td>\n",
       "      <td>0.125895</td>\n",
       "      <td>-0.008983</td>\n",
       "      <td>0.014724</td>\n",
       "      <td>2.69</td>\n",
       "    </tr>\n",
       "    <tr>\n",
       "      <th>2</th>\n",
       "      <td>1.0</td>\n",
       "      <td>-1.358354</td>\n",
       "      <td>-1.340163</td>\n",
       "      <td>1.773209</td>\n",
       "      <td>0.379780</td>\n",
       "      <td>-0.503198</td>\n",
       "      <td>1.800499</td>\n",
       "      <td>0.791461</td>\n",
       "      <td>0.247676</td>\n",
       "      <td>-1.514654</td>\n",
       "      <td>...</td>\n",
       "      <td>0.524980</td>\n",
       "      <td>0.247998</td>\n",
       "      <td>0.771679</td>\n",
       "      <td>0.909412</td>\n",
       "      <td>-0.689281</td>\n",
       "      <td>-0.327642</td>\n",
       "      <td>-0.139097</td>\n",
       "      <td>-0.055353</td>\n",
       "      <td>-0.059752</td>\n",
       "      <td>378.66</td>\n",
       "    </tr>\n",
       "    <tr>\n",
       "      <th>3</th>\n",
       "      <td>1.0</td>\n",
       "      <td>-0.966272</td>\n",
       "      <td>-0.185226</td>\n",
       "      <td>1.792993</td>\n",
       "      <td>-0.863291</td>\n",
       "      <td>-0.010309</td>\n",
       "      <td>1.247203</td>\n",
       "      <td>0.237609</td>\n",
       "      <td>0.377436</td>\n",
       "      <td>-1.387024</td>\n",
       "      <td>...</td>\n",
       "      <td>-0.208038</td>\n",
       "      <td>-0.108300</td>\n",
       "      <td>0.005274</td>\n",
       "      <td>-0.190321</td>\n",
       "      <td>-1.175575</td>\n",
       "      <td>0.647376</td>\n",
       "      <td>-0.221929</td>\n",
       "      <td>0.062723</td>\n",
       "      <td>0.061458</td>\n",
       "      <td>123.50</td>\n",
       "    </tr>\n",
       "    <tr>\n",
       "      <th>4</th>\n",
       "      <td>2.0</td>\n",
       "      <td>-1.158233</td>\n",
       "      <td>0.877737</td>\n",
       "      <td>1.548718</td>\n",
       "      <td>0.403034</td>\n",
       "      <td>-0.407193</td>\n",
       "      <td>0.095921</td>\n",
       "      <td>0.592941</td>\n",
       "      <td>-0.270533</td>\n",
       "      <td>0.817739</td>\n",
       "      <td>...</td>\n",
       "      <td>0.408542</td>\n",
       "      <td>-0.009431</td>\n",
       "      <td>0.798278</td>\n",
       "      <td>-0.137458</td>\n",
       "      <td>0.141267</td>\n",
       "      <td>-0.206010</td>\n",
       "      <td>0.502292</td>\n",
       "      <td>0.219422</td>\n",
       "      <td>0.215153</td>\n",
       "      <td>69.99</td>\n",
       "    </tr>\n",
       "  </tbody>\n",
       "</table>\n",
       "<p>5 rows × 30 columns</p>\n",
       "</div>"
      ],
      "text/plain": [
       "   Time        V1        V2        V3        V4        V5        V6        V7  \\\n",
       "0   0.0 -1.359807 -0.072781  2.536347  1.378155 -0.338321  0.462388  0.239599   \n",
       "1   0.0  1.191857  0.266151  0.166480  0.448154  0.060018 -0.082361 -0.078803   \n",
       "2   1.0 -1.358354 -1.340163  1.773209  0.379780 -0.503198  1.800499  0.791461   \n",
       "3   1.0 -0.966272 -0.185226  1.792993 -0.863291 -0.010309  1.247203  0.237609   \n",
       "4   2.0 -1.158233  0.877737  1.548718  0.403034 -0.407193  0.095921  0.592941   \n",
       "\n",
       "         V8        V9  ...       V20       V21       V22       V23       V24  \\\n",
       "0  0.098698  0.363787  ...  0.251412 -0.018307  0.277838 -0.110474  0.066928   \n",
       "1  0.085102 -0.255425  ... -0.069083 -0.225775 -0.638672  0.101288 -0.339846   \n",
       "2  0.247676 -1.514654  ...  0.524980  0.247998  0.771679  0.909412 -0.689281   \n",
       "3  0.377436 -1.387024  ... -0.208038 -0.108300  0.005274 -0.190321 -1.175575   \n",
       "4 -0.270533  0.817739  ...  0.408542 -0.009431  0.798278 -0.137458  0.141267   \n",
       "\n",
       "        V25       V26       V27       V28  Amount  \n",
       "0  0.128539 -0.189115  0.133558 -0.021053  149.62  \n",
       "1  0.167170  0.125895 -0.008983  0.014724    2.69  \n",
       "2 -0.327642 -0.139097 -0.055353 -0.059752  378.66  \n",
       "3  0.647376 -0.221929  0.062723  0.061458  123.50  \n",
       "4 -0.206010  0.502292  0.219422  0.215153   69.99  \n",
       "\n",
       "[5 rows x 30 columns]"
      ]
     },
     "execution_count": 6,
     "metadata": {},
     "output_type": "execute_result"
    }
   ],
   "source": [
    "x = df.drop('Class', axis=1)\n",
    "x.head()"
   ]
  },
  {
   "cell_type": "code",
   "execution_count": 7,
   "metadata": {},
   "outputs": [
    {
     "data": {
      "text/plain": [
       "0    0\n",
       "1    0\n",
       "2    0\n",
       "3    0\n",
       "4    0\n",
       "Name: Class, dtype: int64"
      ]
     },
     "execution_count": 7,
     "metadata": {},
     "output_type": "execute_result"
    }
   ],
   "source": [
    "y = df['Class']\n",
    "y.head()"
   ]
  },
  {
   "cell_type": "code",
   "execution_count": 8,
   "metadata": {},
   "outputs": [
    {
     "name": "stdout",
     "output_type": "stream",
     "text": [
      "{'Time': 0.0019102560260595425, 'V1': 0.0021266613459182127, 'V2': 0.0032280496386675184, 'V3': 0.004951923879878084, 'V4': 0.004975928557737541, 'V5': 0.002391282510442294, 'V6': 0.0023877964471322732, 'V7': 0.00395182336714206, 'V8': 0.0018984186387377422, 'V9': 0.004276691243075059, 'V10': 0.007530360334659925, 'V11': 0.0068311986391824675, 'V12': 0.007601234689918468, 'V13': 0.00040847476538807825, 'V14': 0.008136137025233858, 'V15': 0.00031483347476612966, 'V16': 0.0061444032608913846, 'V17': 0.008258065520265645, 'V18': 0.004316925188112664, 'V19': 0.0014742068703141875, 'V20': 0.001206659172800606, 'V21': 0.0024521784909981026, 'V22': 0.0003531815503081681, 'V23': 0.0007615205277002879, 'V24': 0.0006419884233281881, 'V25': 0.0004984367248579424, 'V26': 0.0004997507092318054, 'V27': 0.002444072498271943, 'V28': 0.0018713214852906779, 'Amount': 0.0015182851822865828}\n"
     ]
    }
   ],
   "source": [
    "res = dict(zip(list(x),\n",
    "               mutual_info_classif(x, y)\n",
    "               ))\n",
    "print(res)"
   ]
  },
  {
   "cell_type": "code",
   "execution_count": 9,
   "metadata": {},
   "outputs": [
    {
     "data": {
      "image/png": "[encoded data removed]",
      "text/plain": [
       "<Figure size 1440x720 with 1 Axes>"
      ]
     },
     "metadata": {
      "needs_background": "light"
     },
     "output_type": "display_data"
    }
   ],
   "source": [
    "ordered_df = pd.DataFrame(list(res.items()), columns=['Feature', 'Information_Gain'])\n",
    "ordered_df.sort_values(by=['Information_Gain'], ascending=False, inplace=True)\n",
    "\n",
    "\n",
    "ordered_y = ordered_df['Information_Gain']\n",
    "ordered_x = ordered_df['Feature']\n",
    "\n",
    "plt.figure(figsize=(20,10))\n",
    "plt.bar(ordered_x, ordered_y, align='center', alpha=0.5)\n",
    "plt.ylabel('Information Gain')\n",
    "plt.title('Feature')\n",
    "\n",
    "\n",
    "plt.show()"
   ]
  },
  {
   "cell_type": "code",
   "execution_count": 10,
   "metadata": {},
   "outputs": [
    {
     "data": {
      "text/plain": [
       "<Figure size 1440x720 with 0 Axes>"
      ]
     },
     "metadata": {},
     "output_type": "display_data"
    },
    {
     "data": {
      "image/png": "[encoded data removed]",
      "text/plain": [
       "<Figure size 432x288 with 1 Axes>"
      ]
     },
     "metadata": {
      "needs_background": "light"
     },
     "output_type": "display_data"
    }
   ],
   "source": [
    "# endog = class = y\n",
    "# exog = independent = x\n",
    "# x['V17'], x['V14'], x['V12'], x['V10'], x['V11']\n",
    "others = x.drop('V17', axis=1)\n",
    "plt.figure(figsize=(20,10))\n",
    "fig = sm.graphics.plot_partregress(y, x['V17'], others, obs_labels=False)"
   ]
  },
  {
   "cell_type": "code",
   "execution_count": 11,
   "metadata": {},
   "outputs": [
    {
     "data": {
      "text/plain": [
       "<Figure size 1440x720 with 0 Axes>"
      ]
     },
     "metadata": {},
     "output_type": "display_data"
    },
    {
     "data": {
      "image/png": "[encoded data removed]",
      "text/plain": [
       "<Figure size 432x288 with 1 Axes>"
      ]
     },
     "metadata": {
      "needs_background": "light"
     },
     "output_type": "display_data"
    }
   ],
   "source": [
    "others = x.drop('V14', axis=1)\n",
    "plt.figure(figsize=(20,10))\n",
    "fig = sm.graphics.plot_partregress(y, x['V14'], others, obs_labels=False)"
   ]
  },
  {
   "cell_type": "code",
   "execution_count": 12,
   "metadata": {},
   "outputs": [
    {
     "data": {
      "text/plain": [
       "<Figure size 1440x720 with 0 Axes>"
      ]
     },
     "metadata": {},
     "output_type": "display_data"
    },
    {
     "data": {
      "image/png": "[encoded data removed]",
      "text/plain": [
       "<Figure size 432x288 with 1 Axes>"
      ]
     },
     "metadata": {
      "needs_background": "light"
     },
     "output_type": "display_data"
    }
   ],
   "source": [
    "others = x.drop('V12', axis=1)\n",
    "plt.figure(figsize=(20,10))\n",
    "fig = sm.graphics.plot_partregress(y, x['V12'], others, obs_labels=False)"
   ]
  },
  {
   "cell_type": "code",
   "execution_count": 13,
   "metadata": {},
   "outputs": [
    {
     "data": {
      "text/plain": [
       "<Figure size 1440x720 with 0 Axes>"
      ]
     },
     "metadata": {},
     "output_type": "display_data"
    },
    {
     "data": {
      "image/png": "[encoded data removed]",
      "text/plain": [
       "<Figure size 432x288 with 1 Axes>"
      ]
     },
     "metadata": {
      "needs_background": "light"
     },
     "output_type": "display_data"
    }
   ],
   "source": [
    "others = x.drop('V10', axis=1)\n",
    "plt.figure(figsize=(20,10))\n",
    "fig = sm.graphics.plot_partregress(y, x['V10'], others, obs_labels=False)"
   ]
  },
  {
   "cell_type": "code",
   "execution_count": 14,
   "metadata": {},
   "outputs": [
    {
     "data": {
      "text/plain": [
       "<Figure size 1440x720 with 0 Axes>"
      ]
     },
     "metadata": {},
     "output_type": "display_data"
    },
    {
     "data": {
      "image/png": "[encoded data removed]",
      "text/plain": [
       "<Figure size 432x288 with 1 Axes>"
      ]
     },
     "metadata": {
      "needs_background": "light"
     },
     "output_type": "display_data"
    }
   ],
   "source": [
    "others = x.drop('V11', axis=1)\n",
    "plt.figure(figsize=(20,10))\n",
    "fig = sm.graphics.plot_partregress(y, x['V11'], others, obs_labels=False)"
   ]
  },
  {
   "cell_type": "code",
   "execution_count": 15,
   "metadata": {},
   "outputs": [],
   "source": [
    "from sklearn.preprocessing import StandardScaler\n",
    "scaler = StandardScaler()\n",
    "scaler2 = StandardScaler()\n",
    "#scaling time\n",
    "scaled_time = scaler.fit_transform(df[['Time']])\n",
    "flat_list1 = [item for sublist in scaled_time.tolist() for item in sublist]\n",
    "scaled_time = pd.Series(flat_list1)"
   ]
  },
  {
   "cell_type": "code",
   "execution_count": 16,
   "metadata": {},
   "outputs": [],
   "source": [
    "from sklearn.preprocessing import StandardScaler\n",
    "scaler = StandardScaler()\n",
    "scaler2 = StandardScaler()\n",
    "#scaling time\n",
    "scaled_time = scaler.fit_transform(df[['Time']])\n",
    "flat_list1 = [item for sublist in scaled_time.tolist() for item in sublist]\n",
    "scaled_time = pd.Series(flat_list1)"
   ]
  },
  {
   "cell_type": "code",
   "execution_count": 17,
   "metadata": {},
   "outputs": [],
   "source": [
    "#scaling the amount column\n",
    "scaled_amount = scaler2.fit_transform(df[['Amount']])\n",
    "flat_list2 = [item for sublist in scaled_amount.tolist() for item in sublist]\n",
    "scaled_amount = pd.Series(flat_list2)"
   ]
  },
  {
   "cell_type": "code",
   "execution_count": 18,
   "metadata": {},
   "outputs": [
    {
     "data": {
      "text/html": [
       "<div>\n",
       "<style scoped>\n",
       "    .dataframe tbody tr th:only-of-type {\n",
       "        vertical-align: middle;\n",
       "    }\n",
       "\n",
       "    .dataframe tbody tr th {\n",
       "        vertical-align: top;\n",
       "    }\n",
       "\n",
       "    .dataframe thead th {\n",
       "        text-align: right;\n",
       "    }\n",
       "</style>\n",
       "<table border=\"1\" class=\"dataframe\">\n",
       "  <thead>\n",
       "    <tr style=\"text-align: right;\">\n",
       "      <th></th>\n",
       "      <th>Time</th>\n",
       "      <th>V1</th>\n",
       "      <th>V2</th>\n",
       "      <th>V3</th>\n",
       "      <th>V4</th>\n",
       "      <th>V5</th>\n",
       "      <th>V6</th>\n",
       "      <th>V7</th>\n",
       "      <th>V8</th>\n",
       "      <th>V9</th>\n",
       "      <th>...</th>\n",
       "      <th>V23</th>\n",
       "      <th>V24</th>\n",
       "      <th>V25</th>\n",
       "      <th>V26</th>\n",
       "      <th>V27</th>\n",
       "      <th>V28</th>\n",
       "      <th>Amount</th>\n",
       "      <th>Class</th>\n",
       "      <th>scaled_amount</th>\n",
       "      <th>scaled_time</th>\n",
       "    </tr>\n",
       "  </thead>\n",
       "  <tbody>\n",
       "    <tr>\n",
       "      <th>174323</th>\n",
       "      <td>121864.0</td>\n",
       "      <td>2.038254</td>\n",
       "      <td>-1.109910</td>\n",
       "      <td>-0.556649</td>\n",
       "      <td>-0.972656</td>\n",
       "      <td>-0.957880</td>\n",
       "      <td>-0.256811</td>\n",
       "      <td>-0.944912</td>\n",
       "      <td>-0.011825</td>\n",
       "      <td>-0.235725</td>\n",
       "      <td>...</td>\n",
       "      <td>0.258792</td>\n",
       "      <td>-0.501437</td>\n",
       "      <td>-0.466986</td>\n",
       "      <td>-0.483050</td>\n",
       "      <td>0.001241</td>\n",
       "      <td>-0.043777</td>\n",
       "      <td>68.00</td>\n",
       "      <td>0</td>\n",
       "      <td>-0.081360</td>\n",
       "      <td>0.569620</td>\n",
       "    </tr>\n",
       "    <tr>\n",
       "      <th>19383</th>\n",
       "      <td>30234.0</td>\n",
       "      <td>1.331090</td>\n",
       "      <td>-0.611787</td>\n",
       "      <td>0.481760</td>\n",
       "      <td>-0.884217</td>\n",
       "      <td>-0.774946</td>\n",
       "      <td>0.062364</td>\n",
       "      <td>-0.856860</td>\n",
       "      <td>0.094049</td>\n",
       "      <td>-0.973714</td>\n",
       "      <td>...</td>\n",
       "      <td>-0.176687</td>\n",
       "      <td>-0.228173</td>\n",
       "      <td>0.533352</td>\n",
       "      <td>0.003640</td>\n",
       "      <td>0.032887</td>\n",
       "      <td>0.002819</td>\n",
       "      <td>15.00</td>\n",
       "      <td>0</td>\n",
       "      <td>-0.293258</td>\n",
       "      <td>-1.359918</td>\n",
       "    </tr>\n",
       "    <tr>\n",
       "      <th>70487</th>\n",
       "      <td>53887.0</td>\n",
       "      <td>0.100049</td>\n",
       "      <td>-0.421781</td>\n",
       "      <td>1.417246</td>\n",
       "      <td>0.575888</td>\n",
       "      <td>-1.924205</td>\n",
       "      <td>0.306554</td>\n",
       "      <td>-0.062174</td>\n",
       "      <td>-0.891246</td>\n",
       "      <td>0.323280</td>\n",
       "      <td>...</td>\n",
       "      <td>0.448792</td>\n",
       "      <td>0.501335</td>\n",
       "      <td>0.398629</td>\n",
       "      <td>1.691086</td>\n",
       "      <td>0.062487</td>\n",
       "      <td>0.240309</td>\n",
       "      <td>240.00</td>\n",
       "      <td>0</td>\n",
       "      <td>0.606311</td>\n",
       "      <td>-0.861835</td>\n",
       "    </tr>\n",
       "    <tr>\n",
       "      <th>4142</th>\n",
       "      <td>3747.0</td>\n",
       "      <td>1.122478</td>\n",
       "      <td>-0.795864</td>\n",
       "      <td>0.571221</td>\n",
       "      <td>-0.603262</td>\n",
       "      <td>-0.780820</td>\n",
       "      <td>0.274670</td>\n",
       "      <td>-0.858857</td>\n",
       "      <td>0.185651</td>\n",
       "      <td>0.382110</td>\n",
       "      <td>...</td>\n",
       "      <td>0.135825</td>\n",
       "      <td>-0.384871</td>\n",
       "      <td>-0.034030</td>\n",
       "      <td>-0.483673</td>\n",
       "      <td>-0.009021</td>\n",
       "      <td>0.011335</td>\n",
       "      <td>89.77</td>\n",
       "      <td>0</td>\n",
       "      <td>0.005679</td>\n",
       "      <td>-1.917679</td>\n",
       "    </tr>\n",
       "    <tr>\n",
       "      <th>301</th>\n",
       "      <td>218.0</td>\n",
       "      <td>-0.391725</td>\n",
       "      <td>1.106355</td>\n",
       "      <td>0.787765</td>\n",
       "      <td>0.510525</td>\n",
       "      <td>0.832968</td>\n",
       "      <td>0.151659</td>\n",
       "      <td>0.588155</td>\n",
       "      <td>0.312914</td>\n",
       "      <td>-0.772829</td>\n",
       "      <td>...</td>\n",
       "      <td>-0.213950</td>\n",
       "      <td>-0.421854</td>\n",
       "      <td>0.045355</td>\n",
       "      <td>-0.323299</td>\n",
       "      <td>0.080659</td>\n",
       "      <td>0.037889</td>\n",
       "      <td>1.00</td>\n",
       "      <td>0</td>\n",
       "      <td>-0.349231</td>\n",
       "      <td>-1.991992</td>\n",
       "    </tr>\n",
       "  </tbody>\n",
       "</table>\n",
       "<p>5 rows × 33 columns</p>\n",
       "</div>"
      ],
      "text/plain": [
       "            Time        V1        V2        V3        V4        V5        V6  \\\n",
       "174323  121864.0  2.038254 -1.109910 -0.556649 -0.972656 -0.957880 -0.256811   \n",
       "19383    30234.0  1.331090 -0.611787  0.481760 -0.884217 -0.774946  0.062364   \n",
       "70487    53887.0  0.100049 -0.421781  1.417246  0.575888 -1.924205  0.306554   \n",
       "4142      3747.0  1.122478 -0.795864  0.571221 -0.603262 -0.780820  0.274670   \n",
       "301        218.0 -0.391725  1.106355  0.787765  0.510525  0.832968  0.151659   \n",
       "\n",
       "              V7        V8        V9  ...       V23       V24       V25  \\\n",
       "174323 -0.944912 -0.011825 -0.235725  ...  0.258792 -0.501437 -0.466986   \n",
       "19383  -0.856860  0.094049 -0.973714  ... -0.176687 -0.228173  0.533352   \n",
       "70487  -0.062174 -0.891246  0.323280  ...  0.448792  0.501335  0.398629   \n",
       "4142   -0.858857  0.185651  0.382110  ...  0.135825 -0.384871 -0.034030   \n",
       "301     0.588155  0.312914 -0.772829  ... -0.213950 -0.421854  0.045355   \n",
       "\n",
       "             V26       V27       V28  Amount  Class  scaled_amount  \\\n",
       "174323 -0.483050  0.001241 -0.043777   68.00      0      -0.081360   \n",
       "19383   0.003640  0.032887  0.002819   15.00      0      -0.293258   \n",
       "70487   1.691086  0.062487  0.240309  240.00      0       0.606311   \n",
       "4142   -0.483673 -0.009021  0.011335   89.77      0       0.005679   \n",
       "301    -0.323299  0.080659  0.037889    1.00      0      -0.349231   \n",
       "\n",
       "        scaled_time  \n",
       "174323     0.569620  \n",
       "19383     -1.359918  \n",
       "70487     -0.861835  \n",
       "4142      -1.917679  \n",
       "301       -1.991992  \n",
       "\n",
       "[5 rows x 33 columns]"
      ]
     },
     "execution_count": 18,
     "metadata": {},
     "output_type": "execute_result"
    }
   ],
   "source": [
    "df = pd.concat([df, scaled_amount.rename('scaled_amount'), scaled_time.rename('scaled_time')], axis=1)\n",
    "df.sample(5)"
   ]
  },
  {
   "cell_type": "code",
   "execution_count": 19,
   "metadata": {},
   "outputs": [],
   "source": [
    "df.drop(['Amount', 'Time'], axis=1, inplace=True)"
   ]
  },
  {
   "cell_type": "code",
   "execution_count": 20,
   "metadata": {},
   "outputs": [
    {
     "name": "stdout",
     "output_type": "stream",
     "text": [
      "Train Shape: (256345, 31)\n",
      "Test Shape: (28462, 31)\n"
     ]
    }
   ],
   "source": [
    "mask = np.random.rand(len(df)) < 0.9\n",
    "train = df[mask]\n",
    "test = df[~mask]\n",
    "print('Train Shape: {}\\nTest Shape: {}'.format(train.shape, test.shape))"
   ]
  },
  {
   "cell_type": "code",
   "execution_count": 21,
   "metadata": {},
   "outputs": [],
   "source": [
    "train.reset_index(drop=True, inplace=True)\n",
    "test.reset_index(drop=True, inplace=True)"
   ]
  },
  {
   "cell_type": "code",
   "execution_count": 22,
   "metadata": {},
   "outputs": [
    {
     "name": "stdout",
     "output_type": "stream",
     "text": [
      "There are 434 fraudulent transactions in the train data.\n"
     ]
    }
   ],
   "source": [
    "no_of_frauds = train.Class.value_counts()[1]\n",
    "print('There are {} fraudulent transactions in the train data.'.format(no_of_frauds))"
   ]
  },
  {
   "cell_type": "code",
   "execution_count": 23,
   "metadata": {},
   "outputs": [],
   "source": [
    "non_fraud = train[train['Class'] == 0]\n",
    "fraud = train[train['Class'] == 1]"
   ]
  },
  {
   "cell_type": "code",
   "execution_count": 24,
   "metadata": {},
   "outputs": [
    {
     "data": {
      "text/html": [
       "<div>\n",
       "<style scoped>\n",
       "    .dataframe tbody tr th:only-of-type {\n",
       "        vertical-align: middle;\n",
       "    }\n",
       "\n",
       "    .dataframe tbody tr th {\n",
       "        vertical-align: top;\n",
       "    }\n",
       "\n",
       "    .dataframe thead th {\n",
       "        text-align: right;\n",
       "    }\n",
       "</style>\n",
       "<table border=\"1\" class=\"dataframe\">\n",
       "  <thead>\n",
       "    <tr style=\"text-align: right;\">\n",
       "      <th></th>\n",
       "      <th>V1</th>\n",
       "      <th>V2</th>\n",
       "      <th>V3</th>\n",
       "      <th>V4</th>\n",
       "      <th>V5</th>\n",
       "      <th>V6</th>\n",
       "      <th>V7</th>\n",
       "      <th>V8</th>\n",
       "      <th>V9</th>\n",
       "      <th>V10</th>\n",
       "      <th>...</th>\n",
       "      <th>V22</th>\n",
       "      <th>V23</th>\n",
       "      <th>V24</th>\n",
       "      <th>V25</th>\n",
       "      <th>V26</th>\n",
       "      <th>V27</th>\n",
       "      <th>V28</th>\n",
       "      <th>Class</th>\n",
       "      <th>scaled_amount</th>\n",
       "      <th>scaled_time</th>\n",
       "    </tr>\n",
       "  </thead>\n",
       "  <tbody>\n",
       "    <tr>\n",
       "      <th>64274</th>\n",
       "      <td>1.136679</td>\n",
       "      <td>-0.277308</td>\n",
       "      <td>0.926879</td>\n",
       "      <td>-0.075930</td>\n",
       "      <td>-0.867115</td>\n",
       "      <td>-0.299188</td>\n",
       "      <td>-0.513770</td>\n",
       "      <td>0.031022</td>\n",
       "      <td>0.523391</td>\n",
       "      <td>-0.319763</td>\n",
       "      <td>...</td>\n",
       "      <td>0.098873</td>\n",
       "      <td>0.074344</td>\n",
       "      <td>0.167014</td>\n",
       "      <td>-0.029305</td>\n",
       "      <td>0.982318</td>\n",
       "      <td>-0.035329</td>\n",
       "      <td>0.022047</td>\n",
       "      <td>0</td>\n",
       "      <td>-0.180312</td>\n",
       "      <td>-0.853306</td>\n",
       "    </tr>\n",
       "    <tr>\n",
       "      <th>77709</th>\n",
       "      <td>-0.819806</td>\n",
       "      <td>-0.494530</td>\n",
       "      <td>1.620275</td>\n",
       "      <td>-0.770524</td>\n",
       "      <td>-1.119463</td>\n",
       "      <td>0.116400</td>\n",
       "      <td>0.680024</td>\n",
       "      <td>0.218807</td>\n",
       "      <td>1.028327</td>\n",
       "      <td>-1.202749</td>\n",
       "      <td>...</td>\n",
       "      <td>-0.432128</td>\n",
       "      <td>0.465408</td>\n",
       "      <td>-0.145128</td>\n",
       "      <td>-0.542213</td>\n",
       "      <td>0.752088</td>\n",
       "      <td>-0.009115</td>\n",
       "      <td>0.149992</td>\n",
       "      <td>0</td>\n",
       "      <td>0.534346</td>\n",
       "      <td>-0.708154</td>\n",
       "    </tr>\n",
       "    <tr>\n",
       "      <th>180767</th>\n",
       "      <td>0.156480</td>\n",
       "      <td>0.915769</td>\n",
       "      <td>-0.482087</td>\n",
       "      <td>-0.552106</td>\n",
       "      <td>0.816754</td>\n",
       "      <td>-0.820984</td>\n",
       "      <td>0.848450</td>\n",
       "      <td>-0.005600</td>\n",
       "      <td>0.221377</td>\n",
       "      <td>-0.781490</td>\n",
       "      <td>...</td>\n",
       "      <td>-0.995945</td>\n",
       "      <td>0.097238</td>\n",
       "      <td>0.426049</td>\n",
       "      <td>-0.465381</td>\n",
       "      <td>0.124879</td>\n",
       "      <td>0.211737</td>\n",
       "      <td>0.079396</td>\n",
       "      <td>0</td>\n",
       "      <td>-0.349671</td>\n",
       "      <td>0.817135</td>\n",
       "    </tr>\n",
       "    <tr>\n",
       "      <th>50836</th>\n",
       "      <td>-0.804593</td>\n",
       "      <td>0.371026</td>\n",
       "      <td>-1.521059</td>\n",
       "      <td>-2.907728</td>\n",
       "      <td>1.980838</td>\n",
       "      <td>2.911192</td>\n",
       "      <td>0.530033</td>\n",
       "      <td>1.143319</td>\n",
       "      <td>0.557152</td>\n",
       "      <td>-1.644454</td>\n",
       "      <td>...</td>\n",
       "      <td>0.249221</td>\n",
       "      <td>0.094715</td>\n",
       "      <td>1.009660</td>\n",
       "      <td>0.160723</td>\n",
       "      <td>-0.806060</td>\n",
       "      <td>0.276710</td>\n",
       "      <td>0.181472</td>\n",
       "      <td>0</td>\n",
       "      <td>0.146531</td>\n",
       "      <td>-0.997363</td>\n",
       "    </tr>\n",
       "    <tr>\n",
       "      <th>52285</th>\n",
       "      <td>1.256349</td>\n",
       "      <td>0.397572</td>\n",
       "      <td>0.318485</td>\n",
       "      <td>0.687822</td>\n",
       "      <td>-0.318199</td>\n",
       "      <td>-1.058951</td>\n",
       "      <td>0.127977</td>\n",
       "      <td>-0.238193</td>\n",
       "      <td>-0.058922</td>\n",
       "      <td>-0.300486</td>\n",
       "      <td>...</td>\n",
       "      <td>-0.780562</td>\n",
       "      <td>0.121961</td>\n",
       "      <td>0.361903</td>\n",
       "      <td>0.236420</td>\n",
       "      <td>0.092360</td>\n",
       "      <td>-0.019164</td>\n",
       "      <td>0.032155</td>\n",
       "      <td>0</td>\n",
       "      <td>-0.345313</td>\n",
       "      <td>-0.980812</td>\n",
       "    </tr>\n",
       "  </tbody>\n",
       "</table>\n",
       "<p>5 rows × 31 columns</p>\n",
       "</div>"
      ],
      "text/plain": [
       "              V1        V2        V3        V4        V5        V6        V7  \\\n",
       "64274   1.136679 -0.277308  0.926879 -0.075930 -0.867115 -0.299188 -0.513770   \n",
       "77709  -0.819806 -0.494530  1.620275 -0.770524 -1.119463  0.116400  0.680024   \n",
       "180767  0.156480  0.915769 -0.482087 -0.552106  0.816754 -0.820984  0.848450   \n",
       "50836  -0.804593  0.371026 -1.521059 -2.907728  1.980838  2.911192  0.530033   \n",
       "52285   1.256349  0.397572  0.318485  0.687822 -0.318199 -1.058951  0.127977   \n",
       "\n",
       "              V8        V9       V10  ...       V22       V23       V24  \\\n",
       "64274   0.031022  0.523391 -0.319763  ...  0.098873  0.074344  0.167014   \n",
       "77709   0.218807  1.028327 -1.202749  ... -0.432128  0.465408 -0.145128   \n",
       "180767 -0.005600  0.221377 -0.781490  ... -0.995945  0.097238  0.426049   \n",
       "50836   1.143319  0.557152 -1.644454  ...  0.249221  0.094715  1.009660   \n",
       "52285  -0.238193 -0.058922 -0.300486  ... -0.780562  0.121961  0.361903   \n",
       "\n",
       "             V25       V26       V27       V28  Class  scaled_amount  \\\n",
       "64274  -0.029305  0.982318 -0.035329  0.022047      0      -0.180312   \n",
       "77709  -0.542213  0.752088 -0.009115  0.149992      0       0.534346   \n",
       "180767 -0.465381  0.124879  0.211737  0.079396      0      -0.349671   \n",
       "50836   0.160723 -0.806060  0.276710  0.181472      0       0.146531   \n",
       "52285   0.236420  0.092360 -0.019164  0.032155      0      -0.345313   \n",
       "\n",
       "        scaled_time  \n",
       "64274     -0.853306  \n",
       "77709     -0.708154  \n",
       "180767     0.817135  \n",
       "50836     -0.997363  \n",
       "52285     -0.980812  \n",
       "\n",
       "[5 rows x 31 columns]"
      ]
     },
     "execution_count": 24,
     "metadata": {},
     "output_type": "execute_result"
    }
   ],
   "source": [
    "selected = non_fraud.sample(no_of_frauds)\n",
    "selected.head()"
   ]
  },
  {
   "cell_type": "code",
   "execution_count": 25,
   "metadata": {},
   "outputs": [],
   "source": [
    "selected.reset_index(drop=True, inplace=True)\n",
    "fraud.reset_index(drop=True, inplace=True)"
   ]
  },
  {
   "cell_type": "code",
   "execution_count": 26,
   "metadata": {},
   "outputs": [
    {
     "data": {
      "text/plain": [
       "868"
      ]
     },
     "execution_count": 26,
     "metadata": {},
     "output_type": "execute_result"
    }
   ],
   "source": [
    "subsample = pd.concat([selected, fraud])\n",
    "len(subsample)"
   ]
  },
  {
   "cell_type": "code",
   "execution_count": 27,
   "metadata": {},
   "outputs": [
    {
     "data": {
      "text/html": [
       "<div>\n",
       "<style scoped>\n",
       "    .dataframe tbody tr th:only-of-type {\n",
       "        vertical-align: middle;\n",
       "    }\n",
       "\n",
       "    .dataframe tbody tr th {\n",
       "        vertical-align: top;\n",
       "    }\n",
       "\n",
       "    .dataframe thead th {\n",
       "        text-align: right;\n",
       "    }\n",
       "</style>\n",
       "<table border=\"1\" class=\"dataframe\">\n",
       "  <thead>\n",
       "    <tr style=\"text-align: right;\">\n",
       "      <th></th>\n",
       "      <th>V1</th>\n",
       "      <th>V2</th>\n",
       "      <th>V3</th>\n",
       "      <th>V4</th>\n",
       "      <th>V5</th>\n",
       "      <th>V6</th>\n",
       "      <th>V7</th>\n",
       "      <th>V8</th>\n",
       "      <th>V9</th>\n",
       "      <th>V10</th>\n",
       "      <th>...</th>\n",
       "      <th>V22</th>\n",
       "      <th>V23</th>\n",
       "      <th>V24</th>\n",
       "      <th>V25</th>\n",
       "      <th>V26</th>\n",
       "      <th>V27</th>\n",
       "      <th>V28</th>\n",
       "      <th>Class</th>\n",
       "      <th>scaled_amount</th>\n",
       "      <th>scaled_time</th>\n",
       "    </tr>\n",
       "  </thead>\n",
       "  <tbody>\n",
       "    <tr>\n",
       "      <th>0</th>\n",
       "      <td>-1.201398</td>\n",
       "      <td>4.864535</td>\n",
       "      <td>-8.328823</td>\n",
       "      <td>7.652399</td>\n",
       "      <td>-0.167445</td>\n",
       "      <td>-2.767695</td>\n",
       "      <td>-3.176421</td>\n",
       "      <td>1.623279</td>\n",
       "      <td>-4.367228</td>\n",
       "      <td>-5.533443</td>\n",
       "      <td>...</td>\n",
       "      <td>-0.556913</td>\n",
       "      <td>0.192444</td>\n",
       "      <td>-0.698588</td>\n",
       "      <td>0.025003</td>\n",
       "      <td>0.514968</td>\n",
       "      <td>0.378105</td>\n",
       "      <td>-0.053133</td>\n",
       "      <td>1</td>\n",
       "      <td>-0.350151</td>\n",
       "      <td>1.287716</td>\n",
       "    </tr>\n",
       "    <tr>\n",
       "      <th>1</th>\n",
       "      <td>-2.558951</td>\n",
       "      <td>2.329382</td>\n",
       "      <td>0.443278</td>\n",
       "      <td>-1.791778</td>\n",
       "      <td>-0.788120</td>\n",
       "      <td>-0.926727</td>\n",
       "      <td>0.202840</td>\n",
       "      <td>0.407064</td>\n",
       "      <td>1.500355</td>\n",
       "      <td>2.167682</td>\n",
       "      <td>...</td>\n",
       "      <td>-0.283238</td>\n",
       "      <td>0.052434</td>\n",
       "      <td>0.329125</td>\n",
       "      <td>0.087958</td>\n",
       "      <td>0.661482</td>\n",
       "      <td>0.265049</td>\n",
       "      <td>-0.254364</td>\n",
       "      <td>0</td>\n",
       "      <td>-0.350151</td>\n",
       "      <td>-0.780677</td>\n",
       "    </tr>\n",
       "    <tr>\n",
       "      <th>2</th>\n",
       "      <td>-10.632375</td>\n",
       "      <td>7.251936</td>\n",
       "      <td>-17.681072</td>\n",
       "      <td>8.204144</td>\n",
       "      <td>-10.166591</td>\n",
       "      <td>-4.510344</td>\n",
       "      <td>-12.981606</td>\n",
       "      <td>6.783589</td>\n",
       "      <td>-4.659330</td>\n",
       "      <td>-14.924655</td>\n",
       "      <td>...</td>\n",
       "      <td>0.695603</td>\n",
       "      <td>-1.138122</td>\n",
       "      <td>0.459442</td>\n",
       "      <td>0.386337</td>\n",
       "      <td>0.522438</td>\n",
       "      <td>-1.416604</td>\n",
       "      <td>-0.488307</td>\n",
       "      <td>1</td>\n",
       "      <td>0.400490</td>\n",
       "      <td>-0.020086</td>\n",
       "    </tr>\n",
       "    <tr>\n",
       "      <th>3</th>\n",
       "      <td>-1.783229</td>\n",
       "      <td>3.402794</td>\n",
       "      <td>-3.822742</td>\n",
       "      <td>2.625368</td>\n",
       "      <td>-1.976415</td>\n",
       "      <td>-2.731689</td>\n",
       "      <td>-3.430559</td>\n",
       "      <td>1.413204</td>\n",
       "      <td>-0.776941</td>\n",
       "      <td>-6.199882</td>\n",
       "      <td>...</td>\n",
       "      <td>-0.577526</td>\n",
       "      <td>0.045967</td>\n",
       "      <td>0.461700</td>\n",
       "      <td>0.044146</td>\n",
       "      <td>0.305704</td>\n",
       "      <td>0.530981</td>\n",
       "      <td>0.243746</td>\n",
       "      <td>1</td>\n",
       "      <td>-0.349231</td>\n",
       "      <td>-1.826224</td>\n",
       "    </tr>\n",
       "    <tr>\n",
       "      <th>4</th>\n",
       "      <td>-13.897206</td>\n",
       "      <td>6.344280</td>\n",
       "      <td>-14.281666</td>\n",
       "      <td>5.581009</td>\n",
       "      <td>-12.887133</td>\n",
       "      <td>-3.146176</td>\n",
       "      <td>-15.450467</td>\n",
       "      <td>9.060281</td>\n",
       "      <td>-5.486121</td>\n",
       "      <td>-14.676470</td>\n",
       "      <td>...</td>\n",
       "      <td>0.941180</td>\n",
       "      <td>-0.232710</td>\n",
       "      <td>0.763508</td>\n",
       "      <td>0.075456</td>\n",
       "      <td>-0.453840</td>\n",
       "      <td>-1.508968</td>\n",
       "      <td>-0.686836</td>\n",
       "      <td>1</td>\n",
       "      <td>-0.313289</td>\n",
       "      <td>-1.126617</td>\n",
       "    </tr>\n",
       "    <tr>\n",
       "      <th>5</th>\n",
       "      <td>-1.242833</td>\n",
       "      <td>1.090870</td>\n",
       "      <td>-0.998221</td>\n",
       "      <td>-2.409451</td>\n",
       "      <td>-1.015295</td>\n",
       "      <td>0.714883</td>\n",
       "      <td>-0.939202</td>\n",
       "      <td>-5.844627</td>\n",
       "      <td>-0.881658</td>\n",
       "      <td>0.588924</td>\n",
       "      <td>...</td>\n",
       "      <td>-2.080857</td>\n",
       "      <td>-0.449791</td>\n",
       "      <td>-0.527951</td>\n",
       "      <td>0.943702</td>\n",
       "      <td>-0.254544</td>\n",
       "      <td>0.551731</td>\n",
       "      <td>0.143633</td>\n",
       "      <td>0</td>\n",
       "      <td>0.646292</td>\n",
       "      <td>0.442430</td>\n",
       "    </tr>\n",
       "    <tr>\n",
       "      <th>6</th>\n",
       "      <td>0.457845</td>\n",
       "      <td>1.373769</td>\n",
       "      <td>-0.488926</td>\n",
       "      <td>2.805351</td>\n",
       "      <td>1.777386</td>\n",
       "      <td>0.100492</td>\n",
       "      <td>1.295016</td>\n",
       "      <td>-0.135857</td>\n",
       "      <td>-1.695822</td>\n",
       "      <td>0.955004</td>\n",
       "      <td>...</td>\n",
       "      <td>0.371014</td>\n",
       "      <td>0.051105</td>\n",
       "      <td>0.401524</td>\n",
       "      <td>-0.724766</td>\n",
       "      <td>-0.202881</td>\n",
       "      <td>0.092124</td>\n",
       "      <td>0.094956</td>\n",
       "      <td>1</td>\n",
       "      <td>-0.353229</td>\n",
       "      <td>1.013879</td>\n",
       "    </tr>\n",
       "    <tr>\n",
       "      <th>7</th>\n",
       "      <td>-1.881041</td>\n",
       "      <td>-1.476582</td>\n",
       "      <td>1.803041</td>\n",
       "      <td>0.686080</td>\n",
       "      <td>2.843711</td>\n",
       "      <td>-0.427338</td>\n",
       "      <td>-0.823827</td>\n",
       "      <td>0.157247</td>\n",
       "      <td>0.009839</td>\n",
       "      <td>-0.247575</td>\n",
       "      <td>...</td>\n",
       "      <td>-0.745483</td>\n",
       "      <td>0.017581</td>\n",
       "      <td>-1.294682</td>\n",
       "      <td>0.367340</td>\n",
       "      <td>0.400778</td>\n",
       "      <td>-0.178346</td>\n",
       "      <td>-0.124974</td>\n",
       "      <td>0</td>\n",
       "      <td>-0.333239</td>\n",
       "      <td>-1.142916</td>\n",
       "    </tr>\n",
       "    <tr>\n",
       "      <th>8</th>\n",
       "      <td>1.189784</td>\n",
       "      <td>0.942289</td>\n",
       "      <td>0.082334</td>\n",
       "      <td>3.024050</td>\n",
       "      <td>0.412406</td>\n",
       "      <td>-0.214415</td>\n",
       "      <td>0.053558</td>\n",
       "      <td>-0.110353</td>\n",
       "      <td>0.883798</td>\n",
       "      <td>-0.554224</td>\n",
       "      <td>...</td>\n",
       "      <td>-1.047398</td>\n",
       "      <td>-0.056752</td>\n",
       "      <td>-0.340688</td>\n",
       "      <td>0.541235</td>\n",
       "      <td>-0.098300</td>\n",
       "      <td>-0.003041</td>\n",
       "      <td>0.049819</td>\n",
       "      <td>1</td>\n",
       "      <td>-0.338077</td>\n",
       "      <td>-1.633966</td>\n",
       "    </tr>\n",
       "    <tr>\n",
       "      <th>9</th>\n",
       "      <td>0.247216</td>\n",
       "      <td>-2.038345</td>\n",
       "      <td>-0.814706</td>\n",
       "      <td>-0.949485</td>\n",
       "      <td>-1.126259</td>\n",
       "      <td>-1.024306</td>\n",
       "      <td>0.772880</td>\n",
       "      <td>-0.310478</td>\n",
       "      <td>1.082574</td>\n",
       "      <td>-1.144063</td>\n",
       "      <td>...</td>\n",
       "      <td>-0.117790</td>\n",
       "      <td>-0.647371</td>\n",
       "      <td>0.408990</td>\n",
       "      <td>0.560289</td>\n",
       "      <td>0.023342</td>\n",
       "      <td>-0.125449</td>\n",
       "      <td>0.084197</td>\n",
       "      <td>0</td>\n",
       "      <td>1.834563</td>\n",
       "      <td>-0.567508</td>\n",
       "    </tr>\n",
       "  </tbody>\n",
       "</table>\n",
       "<p>10 rows × 31 columns</p>\n",
       "</div>"
      ],
      "text/plain": [
       "          V1        V2         V3        V4         V5        V6         V7  \\\n",
       "0  -1.201398  4.864535  -8.328823  7.652399  -0.167445 -2.767695  -3.176421   \n",
       "1  -2.558951  2.329382   0.443278 -1.791778  -0.788120 -0.926727   0.202840   \n",
       "2 -10.632375  7.251936 -17.681072  8.204144 -10.166591 -4.510344 -12.981606   \n",
       "3  -1.783229  3.402794  -3.822742  2.625368  -1.976415 -2.731689  -3.430559   \n",
       "4 -13.897206  6.344280 -14.281666  5.581009 -12.887133 -3.146176 -15.450467   \n",
       "5  -1.242833  1.090870  -0.998221 -2.409451  -1.015295  0.714883  -0.939202   \n",
       "6   0.457845  1.373769  -0.488926  2.805351   1.777386  0.100492   1.295016   \n",
       "7  -1.881041 -1.476582   1.803041  0.686080   2.843711 -0.427338  -0.823827   \n",
       "8   1.189784  0.942289   0.082334  3.024050   0.412406 -0.214415   0.053558   \n",
       "9   0.247216 -2.038345  -0.814706 -0.949485  -1.126259 -1.024306   0.772880   \n",
       "\n",
       "         V8        V9        V10  ...       V22       V23       V24       V25  \\\n",
       "0  1.623279 -4.367228  -5.533443  ... -0.556913  0.192444 -0.698588  0.025003   \n",
       "1  0.407064  1.500355   2.167682  ... -0.283238  0.052434  0.329125  0.087958   \n",
       "2  6.783589 -4.659330 -14.924655  ...  0.695603 -1.138122  0.459442  0.386337   \n",
       "3  1.413204 -0.776941  -6.199882  ... -0.577526  0.045967  0.461700  0.044146   \n",
       "4  9.060281 -5.486121 -14.676470  ...  0.941180 -0.232710  0.763508  0.075456   \n",
       "5 -5.844627 -0.881658   0.588924  ... -2.080857 -0.449791 -0.527951  0.943702   \n",
       "6 -0.135857 -1.695822   0.955004  ...  0.371014  0.051105  0.401524 -0.724766   \n",
       "7  0.157247  0.009839  -0.247575  ... -0.745483  0.017581 -1.294682  0.367340   \n",
       "8 -0.110353  0.883798  -0.554224  ... -1.047398 -0.056752 -0.340688  0.541235   \n",
       "9 -0.310478  1.082574  -1.144063  ... -0.117790 -0.647371  0.408990  0.560289   \n",
       "\n",
       "        V26       V27       V28  Class  scaled_amount  scaled_time  \n",
       "0  0.514968  0.378105 -0.053133      1      -0.350151     1.287716  \n",
       "1  0.661482  0.265049 -0.254364      0      -0.350151    -0.780677  \n",
       "2  0.522438 -1.416604 -0.488307      1       0.400490    -0.020086  \n",
       "3  0.305704  0.530981  0.243746      1      -0.349231    -1.826224  \n",
       "4 -0.453840 -1.508968 -0.686836      1      -0.313289    -1.126617  \n",
       "5 -0.254544  0.551731  0.143633      0       0.646292     0.442430  \n",
       "6 -0.202881  0.092124  0.094956      1      -0.353229     1.013879  \n",
       "7  0.400778 -0.178346 -0.124974      0      -0.333239    -1.142916  \n",
       "8 -0.098300 -0.003041  0.049819      1      -0.338077    -1.633966  \n",
       "9  0.023342 -0.125449  0.084197      0       1.834563    -0.567508  \n",
       "\n",
       "[10 rows x 31 columns]"
      ]
     },
     "execution_count": 27,
     "metadata": {},
     "output_type": "execute_result"
    }
   ],
   "source": [
    "subsample = subsample.sample(frac=1).reset_index(drop=True)\n",
    "subsample.head(10)"
   ]
  },
  {
   "cell_type": "code",
   "execution_count": 33,
   "metadata": {},
   "outputs": [
    {
     "data": {
      "text/plain": [
       "Text(0.5, 0, 'Class (0:Non-Fraudulent, 1:Fraudulent)')"
      ]
     },
     "execution_count": 33,
     "metadata": {},
     "output_type": "execute_result"
    },
    {
     "data": {
      "image/png": "[encoded data removed]",
      "text/plain": [
       "<Figure size 576x432 with 1 Axes>"
      ]
     },
     "metadata": {
      "needs_background": "light"
     },
     "output_type": "display_data"
    }
   ],
   "source": [
    "new_counts = subsample.Class.value_counts()\n",
    "plt.figure(figsize=(8,6))\n",
    "sns.barplot(x=new_counts.index, y=new_counts)\n",
    "plt.title('Count of Fraudulent vs. Non-Fraudulent Transactions In Subsample')\n",
    "plt.ylabel('Count')\n",
    "plt.xlabel('Class (0:Non-Fraudulent, 1:Fraudulent)')"
   ]
  },
  {
   "cell_type": "code",
   "execution_count": 34,
   "metadata": {},
   "outputs": [
    {
     "data": {
      "text/html": [
       "<div>\n",
       "<style scoped>\n",
       "    .dataframe tbody tr th:only-of-type {\n",
       "        vertical-align: middle;\n",
       "    }\n",
       "\n",
       "    .dataframe tbody tr th {\n",
       "        vertical-align: top;\n",
       "    }\n",
       "\n",
       "    .dataframe thead th {\n",
       "        text-align: right;\n",
       "    }\n",
       "</style>\n",
       "<table border=\"1\" class=\"dataframe\">\n",
       "  <thead>\n",
       "    <tr style=\"text-align: right;\">\n",
       "      <th></th>\n",
       "      <th>Class</th>\n",
       "    </tr>\n",
       "  </thead>\n",
       "  <tbody>\n",
       "    <tr>\n",
       "      <th>V1</th>\n",
       "      <td>-0.437092</td>\n",
       "    </tr>\n",
       "    <tr>\n",
       "      <th>V2</th>\n",
       "      <td>0.476533</td>\n",
       "    </tr>\n",
       "    <tr>\n",
       "      <th>V3</th>\n",
       "      <td>-0.572751</td>\n",
       "    </tr>\n",
       "    <tr>\n",
       "      <th>V4</th>\n",
       "      <td>0.706753</td>\n",
       "    </tr>\n",
       "    <tr>\n",
       "      <th>V5</th>\n",
       "      <td>-0.372547</td>\n",
       "    </tr>\n",
       "    <tr>\n",
       "      <th>V6</th>\n",
       "      <td>-0.390448</td>\n",
       "    </tr>\n",
       "    <tr>\n",
       "      <th>V7</th>\n",
       "      <td>-0.476508</td>\n",
       "    </tr>\n",
       "    <tr>\n",
       "      <th>V8</th>\n",
       "      <td>0.034989</td>\n",
       "    </tr>\n",
       "    <tr>\n",
       "      <th>V9</th>\n",
       "      <td>-0.558908</td>\n",
       "    </tr>\n",
       "    <tr>\n",
       "      <th>V10</th>\n",
       "      <td>-0.621151</td>\n",
       "    </tr>\n",
       "    <tr>\n",
       "      <th>V11</th>\n",
       "      <td>0.683646</td>\n",
       "    </tr>\n",
       "    <tr>\n",
       "      <th>V12</th>\n",
       "      <td>-0.686544</td>\n",
       "    </tr>\n",
       "    <tr>\n",
       "      <th>V13</th>\n",
       "      <td>-0.084763</td>\n",
       "    </tr>\n",
       "    <tr>\n",
       "      <th>V14</th>\n",
       "      <td>-0.750650</td>\n",
       "    </tr>\n",
       "    <tr>\n",
       "      <th>V15</th>\n",
       "      <td>-0.040720</td>\n",
       "    </tr>\n",
       "    <tr>\n",
       "      <th>V16</th>\n",
       "      <td>-0.593170</td>\n",
       "    </tr>\n",
       "    <tr>\n",
       "      <th>V17</th>\n",
       "      <td>-0.559005</td>\n",
       "    </tr>\n",
       "    <tr>\n",
       "      <th>V18</th>\n",
       "      <td>-0.475301</td>\n",
       "    </tr>\n",
       "    <tr>\n",
       "      <th>V19</th>\n",
       "      <td>0.248664</td>\n",
       "    </tr>\n",
       "    <tr>\n",
       "      <th>V20</th>\n",
       "      <td>0.178244</td>\n",
       "    </tr>\n",
       "    <tr>\n",
       "      <th>V21</th>\n",
       "      <td>0.118264</td>\n",
       "    </tr>\n",
       "    <tr>\n",
       "      <th>V22</th>\n",
       "      <td>0.028790</td>\n",
       "    </tr>\n",
       "    <tr>\n",
       "      <th>V23</th>\n",
       "      <td>-0.004400</td>\n",
       "    </tr>\n",
       "    <tr>\n",
       "      <th>V24</th>\n",
       "      <td>-0.063298</td>\n",
       "    </tr>\n",
       "    <tr>\n",
       "      <th>V25</th>\n",
       "      <td>-0.010152</td>\n",
       "    </tr>\n",
       "    <tr>\n",
       "      <th>V26</th>\n",
       "      <td>0.027882</td>\n",
       "    </tr>\n",
       "    <tr>\n",
       "      <th>V27</th>\n",
       "      <td>0.056694</td>\n",
       "    </tr>\n",
       "    <tr>\n",
       "      <th>V28</th>\n",
       "      <td>0.068251</td>\n",
       "    </tr>\n",
       "    <tr>\n",
       "      <th>Class</th>\n",
       "      <td>1.000000</td>\n",
       "    </tr>\n",
       "    <tr>\n",
       "      <th>scaled_amount</th>\n",
       "      <td>0.091885</td>\n",
       "    </tr>\n",
       "    <tr>\n",
       "      <th>scaled_time</th>\n",
       "      <td>-0.134611</td>\n",
       "    </tr>\n",
       "  </tbody>\n",
       "</table>\n",
       "</div>"
      ],
      "text/plain": [
       "                  Class\n",
       "V1            -0.437092\n",
       "V2             0.476533\n",
       "V3            -0.572751\n",
       "V4             0.706753\n",
       "V5            -0.372547\n",
       "V6            -0.390448\n",
       "V7            -0.476508\n",
       "V8             0.034989\n",
       "V9            -0.558908\n",
       "V10           -0.621151\n",
       "V11            0.683646\n",
       "V12           -0.686544\n",
       "V13           -0.084763\n",
       "V14           -0.750650\n",
       "V15           -0.040720\n",
       "V16           -0.593170\n",
       "V17           -0.559005\n",
       "V18           -0.475301\n",
       "V19            0.248664\n",
       "V20            0.178244\n",
       "V21            0.118264\n",
       "V22            0.028790\n",
       "V23           -0.004400\n",
       "V24           -0.063298\n",
       "V25           -0.010152\n",
       "V26            0.027882\n",
       "V27            0.056694\n",
       "V28            0.068251\n",
       "Class          1.000000\n",
       "scaled_amount  0.091885\n",
       "scaled_time   -0.134611"
      ]
     },
     "execution_count": 34,
     "metadata": {},
     "output_type": "execute_result"
    }
   ],
   "source": [
    "corr = subsample.corr()\n",
    "corr = corr[['Class']]\n",
    "corr"
   ]
  },
  {
   "cell_type": "code",
   "execution_count": 35,
   "metadata": {},
   "outputs": [
    {
     "data": {
      "text/html": [
       "<div>\n",
       "<style scoped>\n",
       "    .dataframe tbody tr th:only-of-type {\n",
       "        vertical-align: middle;\n",
       "    }\n",
       "\n",
       "    .dataframe tbody tr th {\n",
       "        vertical-align: top;\n",
       "    }\n",
       "\n",
       "    .dataframe thead th {\n",
       "        text-align: right;\n",
       "    }\n",
       "</style>\n",
       "<table border=\"1\" class=\"dataframe\">\n",
       "  <thead>\n",
       "    <tr style=\"text-align: right;\">\n",
       "      <th></th>\n",
       "      <th>Class</th>\n",
       "    </tr>\n",
       "  </thead>\n",
       "  <tbody>\n",
       "    <tr>\n",
       "      <th>V3</th>\n",
       "      <td>-0.572751</td>\n",
       "    </tr>\n",
       "    <tr>\n",
       "      <th>V9</th>\n",
       "      <td>-0.558908</td>\n",
       "    </tr>\n",
       "    <tr>\n",
       "      <th>V10</th>\n",
       "      <td>-0.621151</td>\n",
       "    </tr>\n",
       "    <tr>\n",
       "      <th>V12</th>\n",
       "      <td>-0.686544</td>\n",
       "    </tr>\n",
       "    <tr>\n",
       "      <th>V14</th>\n",
       "      <td>-0.750650</td>\n",
       "    </tr>\n",
       "    <tr>\n",
       "      <th>V16</th>\n",
       "      <td>-0.593170</td>\n",
       "    </tr>\n",
       "    <tr>\n",
       "      <th>V17</th>\n",
       "      <td>-0.559005</td>\n",
       "    </tr>\n",
       "  </tbody>\n",
       "</table>\n",
       "</div>"
      ],
      "text/plain": [
       "        Class\n",
       "V3  -0.572751\n",
       "V9  -0.558908\n",
       "V10 -0.621151\n",
       "V12 -0.686544\n",
       "V14 -0.750650\n",
       "V16 -0.593170\n",
       "V17 -0.559005"
      ]
     },
     "execution_count": 35,
     "metadata": {},
     "output_type": "execute_result"
    }
   ],
   "source": [
    "corr[corr.Class < -0.5]"
   ]
  },
  {
   "cell_type": "code",
   "execution_count": 36,
   "metadata": {},
   "outputs": [
    {
     "data": {
      "text/html": [
       "<div>\n",
       "<style scoped>\n",
       "    .dataframe tbody tr th:only-of-type {\n",
       "        vertical-align: middle;\n",
       "    }\n",
       "\n",
       "    .dataframe tbody tr th {\n",
       "        vertical-align: top;\n",
       "    }\n",
       "\n",
       "    .dataframe thead th {\n",
       "        text-align: right;\n",
       "    }\n",
       "</style>\n",
       "<table border=\"1\" class=\"dataframe\">\n",
       "  <thead>\n",
       "    <tr style=\"text-align: right;\">\n",
       "      <th></th>\n",
       "      <th>Class</th>\n",
       "    </tr>\n",
       "  </thead>\n",
       "  <tbody>\n",
       "    <tr>\n",
       "      <th>V4</th>\n",
       "      <td>0.706753</td>\n",
       "    </tr>\n",
       "    <tr>\n",
       "      <th>V11</th>\n",
       "      <td>0.683646</td>\n",
       "    </tr>\n",
       "    <tr>\n",
       "      <th>Class</th>\n",
       "      <td>1.000000</td>\n",
       "    </tr>\n",
       "  </tbody>\n",
       "</table>\n",
       "</div>"
      ],
      "text/plain": [
       "          Class\n",
       "V4     0.706753\n",
       "V11    0.683646\n",
       "Class  1.000000"
      ]
     },
     "execution_count": 36,
     "metadata": {},
     "output_type": "execute_result"
    }
   ],
   "source": [
    "corr[corr.Class > 0.5]"
   ]
  },
  {
   "cell_type": "code",
   "execution_count": 37,
   "metadata": {},
   "outputs": [
    {
     "data": {
      "image/png": "[encoded data removed]",
      "text/plain": [
       "<Figure size 1872x1152 with 7 Axes>"
      ]
     },
     "metadata": {
      "needs_background": "light"
     },
     "output_type": "display_data"
    }
   ],
   "source": [
    "f, axes = plt.subplots(nrows=2, ncols=4, figsize=(26,16))\n",
    "\n",
    "f.suptitle('Features With High Negative Correlation', size=35)\n",
    "sns.boxplot(x=\"Class\", y=\"V3\", data=subsample, ax=axes[0,0])\n",
    "sns.boxplot(x=\"Class\", y=\"V9\", data=subsample, ax=axes[0,1])\n",
    "sns.boxplot(x=\"Class\", y=\"V10\", data=subsample, ax=axes[0,2])\n",
    "sns.boxplot(x=\"Class\", y=\"V12\", data=subsample, ax=axes[0,3])\n",
    "sns.boxplot(x=\"Class\", y=\"V14\", data=subsample, ax=axes[1,0])\n",
    "sns.boxplot(x=\"Class\", y=\"V16\", data=subsample, ax=axes[1,1])\n",
    "sns.boxplot(x=\"Class\", y=\"V17\", data=subsample, ax=axes[1,2])\n",
    "f.delaxes(axes[1,3])"
   ]
  },
  {
   "cell_type": "code",
   "execution_count": 38,
   "metadata": {},
   "outputs": [
    {
     "data": {
      "text/plain": [
       "<matplotlib.axes._subplots.AxesSubplot at 0x1c2a85a2b0>"
      ]
     },
     "execution_count": 38,
     "metadata": {},
     "output_type": "execute_result"
    },
    {
     "data": {
      "image/png": "[encoded data removed]",
      "text/plain": [
       "<Figure size 1296x648 with 2 Axes>"
      ]
     },
     "metadata": {
      "needs_background": "light"
     },
     "output_type": "display_data"
    }
   ],
   "source": [
    "f, axes = plt.subplots(nrows=1, ncols=2, figsize=(18,9))\n",
    "\n",
    "f.suptitle('Features With High Positive Correlation', size=20)\n",
    "sns.boxplot(x=\"Class\", y=\"V4\", data=subsample, ax=axes[0])\n",
    "sns.boxplot(x=\"Class\", y=\"V11\", data=subsample, ax=axes[1])"
   ]
  },
  {
   "cell_type": "code",
   "execution_count": 39,
   "metadata": {},
   "outputs": [],
   "source": [
    "Q1 = subsample.quantile(0.25)\n",
    "Q3 = subsample.quantile(0.75)\n",
    "IQR = Q3 - Q1\n",
    "\n",
    "df2 = subsample[~((subsample < (Q1 - 2.5 * IQR)) |(subsample > (Q3 + 2.5 * IQR))).any(axis=1)]"
   ]
  },
  {
   "cell_type": "code",
   "execution_count": 40,
   "metadata": {},
   "outputs": [
    {
     "name": "stdout",
     "output_type": "stream",
     "text": [
      "We reduced our data size from 868 transactions by 246 transactions to 622 transactions.\n"
     ]
    }
   ],
   "source": [
    "len_after = len(df2)\n",
    "len_before = len(subsample)\n",
    "len_difference = len(subsample) - len(df2)\n",
    "print('We reduced our data size from {} transactions by {} transactions to {} transactions.'.format(len_before, len_difference, len_after))"
   ]
  },
  {
   "cell_type": "code",
   "execution_count": 41,
   "metadata": {},
   "outputs": [],
   "source": [
    "\n",
    "\n",
    "from sklearn.manifold import TSNE\n",
    "\n",
    "X = df2.drop('Class', axis=1)\n",
    "y = df2['Class']\n",
    "\n"
   ]
  },
  {
   "cell_type": "code",
   "execution_count": 42,
   "metadata": {},
   "outputs": [],
   "source": [
    "#t-SNE\n",
    "X_reduced_tsne = TSNE(n_components=2, random_state=42).fit_transform(X.values)"
   ]
  },
  {
   "cell_type": "code",
   "execution_count": 43,
   "metadata": {},
   "outputs": [
    {
     "data": {
      "text/plain": [
       "<matplotlib.legend.Legend at 0x105f19080>"
      ]
     },
     "execution_count": 43,
     "metadata": {},
     "output_type": "execute_result"
    },
    {
     "data": {
      "image/png": "[encoded data removed]",
      "text/plain": [
       "<Figure size 1728x1152 with 1 Axes>"
      ]
     },
     "metadata": {
      "needs_background": "light"
     },
     "output_type": "display_data"
    }
   ],
   "source": [
    "# t-SNE scatter plot\n",
    "import matplotlib.patches as mpatches\n",
    "\n",
    "f, ax = plt.subplots(figsize=(24,16))\n",
    "\n",
    "\n",
    "blue_patch = mpatches.Patch(color='#0A0AFF', label='No Fraud')\n",
    "red_patch = mpatches.Patch(color='#AF0000', label='Fraud')\n",
    "\n",
    "ax.scatter(X_reduced_tsne[:,0], X_reduced_tsne[:,1], c=(y == 0), cmap='coolwarm', label='No Fraud', linewidths=2)\n",
    "ax.scatter(X_reduced_tsne[:,0], X_reduced_tsne[:,1], c=(y == 1), cmap='coolwarm', label='Fraud', linewidths=2)\n",
    "ax.set_title('t-SNE', fontsize=14)\n",
    "\n",
    "ax.grid(True)\n",
    "\n",
    "ax.legend(handles=[blue_patch, red_patch])"
   ]
  },
  {
   "cell_type": "code",
   "execution_count": 44,
   "metadata": {},
   "outputs": [],
   "source": [
    "def warn(*args, **kwargs):\n",
    "    pass\n",
    "import warnings\n",
    "warnings.warn = warn"
   ]
  },
  {
   "cell_type": "code",
   "execution_count": 45,
   "metadata": {},
   "outputs": [],
   "source": [
    "from sklearn.model_selection import train_test_split\n",
    "\n",
    "X_train, X_test, y_train, y_test = train_test_split(X, y, test_size=0.2, random_state=42)"
   ]
  },
  {
   "cell_type": "code",
   "execution_count": 46,
   "metadata": {},
   "outputs": [],
   "source": [
    "X_train = X_train.values\n",
    "X_validation = X_test.values\n",
    "y_train = y_train.values\n",
    "y_validation = y_test.values"
   ]
  },
  {
   "cell_type": "code",
   "execution_count": 47,
   "metadata": {},
   "outputs": [
    {
     "name": "stdout",
     "output_type": "stream",
     "text": [
      "X_shapes:\n",
      " X_train: X_validation:\n",
      " (497, 30) (125, 30) \n",
      "\n",
      "Y_shapes:\n",
      " Y_train: Y_validation:\n",
      " (497,) (125,)\n"
     ]
    }
   ],
   "source": [
    "print('X_shapes:\\n', 'X_train:', 'X_validation:\\n', X_train.shape, X_validation.shape, '\\n')\n",
    "print('Y_shapes:\\n', 'Y_train:', 'Y_validation:\\n', y_train.shape, y_validation.shape)"
   ]
  },
  {
   "cell_type": "code",
   "execution_count": 50,
   "metadata": {},
   "outputs": [],
   "source": [
    "from sklearn.model_selection import KFold\n",
    "from sklearn.model_selection import cross_val_score\n",
    "from sklearn.metrics import roc_auc_score\n",
    "from sklearn.metrics import classification_report\n",
    "from sklearn.metrics import confusion_matrix\n",
    "from sklearn.linear_model import LogisticRegression\n",
    "from sklearn.discriminant_analysis import LinearDiscriminantAnalysis\n",
    "from sklearn.neighbors import KNeighborsClassifier\n",
    "from sklearn.tree import DecisionTreeClassifier\n",
    "from sklearn.svm import SVC\n",
    "from xgboost import XGBClassifier\n",
    "from sklearn.ensemble import RandomForestClassifier"
   ]
  },
  {
   "cell_type": "code",
   "execution_count": 51,
   "metadata": {},
   "outputs": [
    {
     "name": "stdout",
     "output_type": "stream",
     "text": [
      "LR: 0.975798 (0.027440)\n",
      "LDA: 0.975042 (0.018684)\n",
      "KNN: 0.972169 (0.025504)\n",
      "CART: 0.892529 (0.027775)\n",
      "SVM: 0.969621 (0.026866)\n",
      "XGB: 0.974025 (0.019055)\n",
      "RF: 0.974643 (0.019646)\n"
     ]
    }
   ],
   "source": [
    "models = []\n",
    "\n",
    "models.append(('LR', LogisticRegression()))\n",
    "models.append(('LDA', LinearDiscriminantAnalysis()))\n",
    "models.append(('KNN', KNeighborsClassifier()))\n",
    "models.append(('CART', DecisionTreeClassifier()))\n",
    "models.append(('SVM', SVC()))\n",
    "models.append(('XGB', XGBClassifier()))\n",
    "models.append(('RF', RandomForestClassifier()))\n",
    "\n",
    "#testing models\n",
    "\n",
    "results = []\n",
    "names = []\n",
    "\n",
    "for name, model in models:\n",
    "    kfold = KFold(n_splits=10, random_state=42)\n",
    "    cv_results = cross_val_score(model, X_train, y_train, cv=kfold, scoring='roc_auc')\n",
    "    results.append(cv_results)\n",
    "    names.append(name)\n",
    "    msg = '%s: %f (%f)' % (name, cv_results.mean(), cv_results.std())\n",
    "    print(msg)"
   ]
  },
  {
   "cell_type": "code",
   "execution_count": 52,
   "metadata": {},
   "outputs": [],
   "source": [
    "logreg = LogisticRegression()\n",
    "\n",
    "# fit the model with data\n",
    "logreg.fit(X_train,y_train)\n",
    "\n",
    "#\n",
    "y_pred=logreg.predict(X_test)"
   ]
  },
  {
   "cell_type": "code",
   "execution_count": 55,
   "metadata": {},
   "outputs": [
    {
     "data": {
      "text/plain": [
       "array([[80,  2],\n",
       "       [ 4, 39]])"
      ]
     },
     "execution_count": 55,
     "metadata": {},
     "output_type": "execute_result"
    }
   ],
   "source": [
    "cnf_matrix = metrics.confusion_matrix(y_test, y_pred)\n",
    "cnf_matrix"
   ]
  },
  {
   "cell_type": "code",
   "execution_count": 56,
   "metadata": {},
   "outputs": [
    {
     "data": {
      "text/plain": [
       "Text(0.5, 257.44, 'Predicted label')"
      ]
     },
     "execution_count": 56,
     "metadata": {},
     "output_type": "execute_result"
    },
    {
     "data": {
      "image/png": "[encoded data removed]",
      "text/plain": [
       "<Figure size 432x288 with 2 Axes>"
      ]
     },
     "metadata": {
      "needs_background": "light"
     },
     "output_type": "display_data"
    }
   ],
   "source": [
    "# import required modules\n",
    "import numpy as np\n",
    "import matplotlib.pyplot as plt\n",
    "import seaborn as sns\n",
    "%matplotlib inline\n",
    "\n",
    "class_names=[0,1] # name  of classes\n",
    "fig, ax = plt.subplots()\n",
    "tick_marks = np.arange(len(class_names))\n",
    "plt.xticks(tick_marks, class_names)\n",
    "plt.yticks(tick_marks, class_names)\n",
    "# create heatmap\n",
    "sns.heatmap(pd.DataFrame(cnf_matrix), annot=True, cmap=\"YlGnBu\" ,fmt='g')\n",
    "ax.xaxis.set_label_position(\"top\")\n",
    "plt.tight_layout()\n",
    "plt.title('Confusion matrix', y=1.1)\n",
    "plt.ylabel('Actual label')\n",
    "plt.xlabel('Predicted label')\n"
   ]
  },
  {
   "cell_type": "code",
   "execution_count": 57,
   "metadata": {},
   "outputs": [
    {
     "name": "stdout",
     "output_type": "stream",
     "text": [
      "Accuracy: 0.952\n",
      "Precision: 0.9512195121951219\n",
      "Recall: 0.9069767441860465\n"
     ]
    }
   ],
   "source": [
    "print(\"Accuracy:\",metrics.accuracy_score(y_test, y_pred))\n",
    "print(\"Precision:\",metrics.precision_score(y_test, y_pred))\n",
    "print(\"Recall:\",metrics.recall_score(y_test, y_pred))"
   ]
  },
  {
   "cell_type": "code",
   "execution_count": 58,
   "metadata": {},
   "outputs": [],
   "source": [
    "lindis = LinearDiscriminantAnalysis()\n",
    "\n",
    "# fit the model with data\n",
    "lindis.fit(X_train,y_train)\n",
    "\n",
    "#\n",
    "y_pred=lindis.predict(X_test)"
   ]
  },
  {
   "cell_type": "code",
   "execution_count": 59,
   "metadata": {},
   "outputs": [
    {
     "data": {
      "text/plain": [
       "array([[82,  0],\n",
       "       [ 9, 34]])"
      ]
     },
     "execution_count": 59,
     "metadata": {},
     "output_type": "execute_result"
    }
   ],
   "source": [
    "cnf_matrix = metrics.confusion_matrix(y_test, y_pred)\n",
    "cnf_matrix"
   ]
  },
  {
   "cell_type": "code",
   "execution_count": 60,
   "metadata": {},
   "outputs": [
    {
     "data": {
      "text/plain": [
       "Text(0.5, 257.44, 'Predicted label')"
      ]
     },
     "execution_count": 60,
     "metadata": {},
     "output_type": "execute_result"
    },
    {
     "data": {
      "image/png": "[encoded data removed]",
      "text/plain": [
       "<Figure size 432x288 with 2 Axes>"
      ]
     },
     "metadata": {
      "needs_background": "light"
     },
     "output_type": "display_data"
    }
   ],
   "source": [
    "class_names=[0,1] # name  of classes\n",
    "fig, ax = plt.subplots()\n",
    "tick_marks = np.arange(len(class_names))\n",
    "plt.xticks(tick_marks, class_names)\n",
    "plt.yticks(tick_marks, class_names)\n",
    "# create heatmap\n",
    "sns.heatmap(pd.DataFrame(cnf_matrix), annot=True, cmap=\"YlGnBu\" ,fmt='g')\n",
    "ax.xaxis.set_label_position(\"top\")\n",
    "plt.tight_layout()\n",
    "plt.title('Confusion matrix', y=1.1)\n",
    "plt.ylabel('Actual label')\n",
    "plt.xlabel('Predicted label')"
   ]
  },
  {
   "cell_type": "code",
   "execution_count": 61,
   "metadata": {},
   "outputs": [
    {
     "name": "stdout",
     "output_type": "stream",
     "text": [
      "Accuracy: 0.928\n",
      "Precision: 1.0\n",
      "Recall: 0.7906976744186046\n"
     ]
    }
   ],
   "source": [
    "print(\"Accuracy:\",metrics.accuracy_score(y_test, y_pred))\n",
    "print(\"Precision:\",metrics.precision_score(y_test, y_pred))\n",
    "print(\"Recall:\",metrics.recall_score(y_test, y_pred))"
   ]
  },
  {
   "cell_type": "code",
   "execution_count": null,
   "metadata": {},
   "outputs": [],
   "source": []
  }
 ],
 "metadata": {
  "kernelspec": {
   "display_name": "Python 3",
   "language": "python",
   "name": "python3"
  },
  "language_info": {
   "codemirror_mode": {
    "name": "ipython",
    "version": 3
   },
   "file_extension": ".py",
   "mimetype": "text/x-python",
   "name": "python",
   "nbconvert_exporter": "python",
   "pygments_lexer": "ipython3",
   "version": "3.7.3"
  }
 },
 "nbformat": 4,
 "nbformat_minor": 2
}
