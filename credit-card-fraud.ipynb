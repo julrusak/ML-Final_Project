{
 "cells": [
  {
   "cell_type": "code",
   "execution_count": 47,
   "metadata": {},
   "outputs": [],
   "source": [
    "from sklearn.feature_selection import mutual_info_classif\n",
    "import pandas as pd\n",
    "import numpy as np\n",
    "import matplotlib.pyplot as plt\n",
    "import statsmodels.api as sm\n",
    "import seaborn as sns\n",
    "from sklearn import metrics\n",
    "import time, pprint\n",
    "from sklearn.preprocessing import MinMaxScaler\n",
    "from sklearn.linear_model import LogisticRegression\n",
    "from sklearn.ensemble import RandomForestClassifier\n",
    "from sklearn.model_selection import train_test_split\n",
    "from sklearn.metrics import accuracy_score\n",
    "from sklearn.utils import resample\n",
    "from sklearn.metrics import confusion_matrix\n",
    "from sklearn.metrics import classification_report\n",
    "from sklearn.naive_bayes import GaussianNB"
   ]
  },
  {
   "cell_type": "code",
   "execution_count": 10,
   "metadata": {},
   "outputs": [],
   "source": [
    "df = pd.read_csv(\"creditcard.csv\", nrows=100000)"
   ]
  },
  {
   "cell_type": "code",
   "execution_count": 11,
   "metadata": {},
   "outputs": [
    {
     "name": "stdout",
     "output_type": "stream",
     "text": [
      "<class 'pandas.core.frame.DataFrame'>\n",
      "RangeIndex: 100000 entries, 0 to 99999\n",
      "Data columns (total 31 columns):\n",
      "Time      100000 non-null int64\n",
      "V1        100000 non-null float64\n",
      "V2        100000 non-null float64\n",
      "V3        100000 non-null float64\n",
      "V4        100000 non-null float64\n",
      "V5        100000 non-null float64\n",
      "V6        100000 non-null float64\n",
      "V7        100000 non-null float64\n",
      "V8        100000 non-null float64\n",
      "V9        100000 non-null float64\n",
      "V10       100000 non-null float64\n",
      "V11       100000 non-null float64\n",
      "V12       100000 non-null float64\n",
      "V13       100000 non-null float64\n",
      "V14       100000 non-null float64\n",
      "V15       100000 non-null float64\n",
      "V16       100000 non-null float64\n",
      "V17       100000 non-null float64\n",
      "V18       100000 non-null float64\n",
      "V19       100000 non-null float64\n",
      "V20       100000 non-null float64\n",
      "V21       100000 non-null float64\n",
      "V22       100000 non-null float64\n",
      "V23       100000 non-null float64\n",
      "V24       100000 non-null float64\n",
      "V25       100000 non-null float64\n",
      "V26       100000 non-null float64\n",
      "V27       100000 non-null float64\n",
      "V28       100000 non-null float64\n",
      "Amount    100000 non-null float64\n",
      "Class     100000 non-null int64\n",
      "dtypes: float64(29), int64(2)\n",
      "memory usage: 23.7 MB\n"
     ]
    }
   ],
   "source": [
    "df.info()"
   ]
  },
  {
   "cell_type": "code",
   "execution_count": 16,
   "metadata": {},
   "outputs": [
    {
     "data": {
      "text/plain": [
       "0    99777\n",
       "1      223\n",
       "Name: Class, dtype: int64"
      ]
     },
     "execution_count": 16,
     "metadata": {},
     "output_type": "execute_result"
    }
   ],
   "source": [
    "df.Class.value_counts()"
   ]
  },
  {
   "cell_type": "code",
   "execution_count": 13,
   "metadata": {},
   "outputs": [
    {
     "data": {
      "text/html": [
       "<div>\n",
       "<style scoped>\n",
       "    .dataframe tbody tr th:only-of-type {\n",
       "        vertical-align: middle;\n",
       "    }\n",
       "\n",
       "    .dataframe tbody tr th {\n",
       "        vertical-align: top;\n",
       "    }\n",
       "\n",
       "    .dataframe thead th {\n",
       "        text-align: right;\n",
       "    }\n",
       "</style>\n",
       "<table border=\"1\" class=\"dataframe\">\n",
       "  <thead>\n",
       "    <tr style=\"text-align: right;\">\n",
       "      <th></th>\n",
       "      <th>Time</th>\n",
       "      <th>V1</th>\n",
       "      <th>V2</th>\n",
       "      <th>V3</th>\n",
       "      <th>V4</th>\n",
       "      <th>V5</th>\n",
       "      <th>V6</th>\n",
       "      <th>V7</th>\n",
       "      <th>V8</th>\n",
       "      <th>V9</th>\n",
       "      <th>...</th>\n",
       "      <th>V20</th>\n",
       "      <th>V21</th>\n",
       "      <th>V22</th>\n",
       "      <th>V23</th>\n",
       "      <th>V24</th>\n",
       "      <th>V25</th>\n",
       "      <th>V26</th>\n",
       "      <th>V27</th>\n",
       "      <th>V28</th>\n",
       "      <th>Amount</th>\n",
       "    </tr>\n",
       "  </thead>\n",
       "  <tbody>\n",
       "    <tr>\n",
       "      <th>0</th>\n",
       "      <td>0</td>\n",
       "      <td>-1.359807</td>\n",
       "      <td>-0.072781</td>\n",
       "      <td>2.536347</td>\n",
       "      <td>1.378155</td>\n",
       "      <td>-0.338321</td>\n",
       "      <td>0.462388</td>\n",
       "      <td>0.239599</td>\n",
       "      <td>0.098698</td>\n",
       "      <td>0.363787</td>\n",
       "      <td>...</td>\n",
       "      <td>0.251412</td>\n",
       "      <td>-0.018307</td>\n",
       "      <td>0.277838</td>\n",
       "      <td>-0.110474</td>\n",
       "      <td>0.066928</td>\n",
       "      <td>0.128539</td>\n",
       "      <td>-0.189115</td>\n",
       "      <td>0.133558</td>\n",
       "      <td>-0.021053</td>\n",
       "      <td>149.62</td>\n",
       "    </tr>\n",
       "    <tr>\n",
       "      <th>1</th>\n",
       "      <td>0</td>\n",
       "      <td>1.191857</td>\n",
       "      <td>0.266151</td>\n",
       "      <td>0.166480</td>\n",
       "      <td>0.448154</td>\n",
       "      <td>0.060018</td>\n",
       "      <td>-0.082361</td>\n",
       "      <td>-0.078803</td>\n",
       "      <td>0.085102</td>\n",
       "      <td>-0.255425</td>\n",
       "      <td>...</td>\n",
       "      <td>-0.069083</td>\n",
       "      <td>-0.225775</td>\n",
       "      <td>-0.638672</td>\n",
       "      <td>0.101288</td>\n",
       "      <td>-0.339846</td>\n",
       "      <td>0.167170</td>\n",
       "      <td>0.125895</td>\n",
       "      <td>-0.008983</td>\n",
       "      <td>0.014724</td>\n",
       "      <td>2.69</td>\n",
       "    </tr>\n",
       "    <tr>\n",
       "      <th>2</th>\n",
       "      <td>1</td>\n",
       "      <td>-1.358354</td>\n",
       "      <td>-1.340163</td>\n",
       "      <td>1.773209</td>\n",
       "      <td>0.379780</td>\n",
       "      <td>-0.503198</td>\n",
       "      <td>1.800499</td>\n",
       "      <td>0.791461</td>\n",
       "      <td>0.247676</td>\n",
       "      <td>-1.514654</td>\n",
       "      <td>...</td>\n",
       "      <td>0.524980</td>\n",
       "      <td>0.247998</td>\n",
       "      <td>0.771679</td>\n",
       "      <td>0.909412</td>\n",
       "      <td>-0.689281</td>\n",
       "      <td>-0.327642</td>\n",
       "      <td>-0.139097</td>\n",
       "      <td>-0.055353</td>\n",
       "      <td>-0.059752</td>\n",
       "      <td>378.66</td>\n",
       "    </tr>\n",
       "    <tr>\n",
       "      <th>3</th>\n",
       "      <td>1</td>\n",
       "      <td>-0.966272</td>\n",
       "      <td>-0.185226</td>\n",
       "      <td>1.792993</td>\n",
       "      <td>-0.863291</td>\n",
       "      <td>-0.010309</td>\n",
       "      <td>1.247203</td>\n",
       "      <td>0.237609</td>\n",
       "      <td>0.377436</td>\n",
       "      <td>-1.387024</td>\n",
       "      <td>...</td>\n",
       "      <td>-0.208038</td>\n",
       "      <td>-0.108300</td>\n",
       "      <td>0.005274</td>\n",
       "      <td>-0.190321</td>\n",
       "      <td>-1.175575</td>\n",
       "      <td>0.647376</td>\n",
       "      <td>-0.221929</td>\n",
       "      <td>0.062723</td>\n",
       "      <td>0.061458</td>\n",
       "      <td>123.50</td>\n",
       "    </tr>\n",
       "    <tr>\n",
       "      <th>4</th>\n",
       "      <td>2</td>\n",
       "      <td>-1.158233</td>\n",
       "      <td>0.877737</td>\n",
       "      <td>1.548718</td>\n",
       "      <td>0.403034</td>\n",
       "      <td>-0.407193</td>\n",
       "      <td>0.095921</td>\n",
       "      <td>0.592941</td>\n",
       "      <td>-0.270533</td>\n",
       "      <td>0.817739</td>\n",
       "      <td>...</td>\n",
       "      <td>0.408542</td>\n",
       "      <td>-0.009431</td>\n",
       "      <td>0.798278</td>\n",
       "      <td>-0.137458</td>\n",
       "      <td>0.141267</td>\n",
       "      <td>-0.206010</td>\n",
       "      <td>0.502292</td>\n",
       "      <td>0.219422</td>\n",
       "      <td>0.215153</td>\n",
       "      <td>69.99</td>\n",
       "    </tr>\n",
       "  </tbody>\n",
       "</table>\n",
       "<p>5 rows × 30 columns</p>\n",
       "</div>"
      ],
      "text/plain": [
       "   Time        V1        V2        V3        V4        V5        V6        V7  \\\n",
       "0     0 -1.359807 -0.072781  2.536347  1.378155 -0.338321  0.462388  0.239599   \n",
       "1     0  1.191857  0.266151  0.166480  0.448154  0.060018 -0.082361 -0.078803   \n",
       "2     1 -1.358354 -1.340163  1.773209  0.379780 -0.503198  1.800499  0.791461   \n",
       "3     1 -0.966272 -0.185226  1.792993 -0.863291 -0.010309  1.247203  0.237609   \n",
       "4     2 -1.158233  0.877737  1.548718  0.403034 -0.407193  0.095921  0.592941   \n",
       "\n",
       "         V8        V9  ...       V20       V21       V22       V23       V24  \\\n",
       "0  0.098698  0.363787  ...  0.251412 -0.018307  0.277838 -0.110474  0.066928   \n",
       "1  0.085102 -0.255425  ... -0.069083 -0.225775 -0.638672  0.101288 -0.339846   \n",
       "2  0.247676 -1.514654  ...  0.524980  0.247998  0.771679  0.909412 -0.689281   \n",
       "3  0.377436 -1.387024  ... -0.208038 -0.108300  0.005274 -0.190321 -1.175575   \n",
       "4 -0.270533  0.817739  ...  0.408542 -0.009431  0.798278 -0.137458  0.141267   \n",
       "\n",
       "        V25       V26       V27       V28  Amount  \n",
       "0  0.128539 -0.189115  0.133558 -0.021053  149.62  \n",
       "1  0.167170  0.125895 -0.008983  0.014724    2.69  \n",
       "2 -0.327642 -0.139097 -0.055353 -0.059752  378.66  \n",
       "3  0.647376 -0.221929  0.062723  0.061458  123.50  \n",
       "4 -0.206010  0.502292  0.219422  0.215153   69.99  \n",
       "\n",
       "[5 rows x 30 columns]"
      ]
     },
     "execution_count": 13,
     "metadata": {},
     "output_type": "execute_result"
    }
   ],
   "source": [
    "x = df.drop('Class', axis=1)\n",
    "x.head()"
   ]
  },
  {
   "cell_type": "code",
   "execution_count": 17,
   "metadata": {},
   "outputs": [
    {
     "data": {
      "text/plain": [
       "0    99777\n",
       "1    99223\n",
       "Name: Class, dtype: int64"
      ]
     },
     "execution_count": 17,
     "metadata": {},
     "output_type": "execute_result"
    }
   ],
   "source": [
    "df_minority = df[(df['Class']==1)]\n",
    "\n",
    "df_up = resample(df_minority,replace=True,  \n",
    "                             n_samples=99000)\n",
    "\n",
    "df_re = pd.concat([df,df_up])\n",
    "\n",
    "df_re['Class'].value_counts()"
   ]
  },
  {
   "cell_type": "code",
   "execution_count": 27,
   "metadata": {},
   "outputs": [
    {
     "name": "stdout",
     "output_type": "stream",
     "text": [
      "Test Accuracy: 0.9999396984924623 \n",
      " Train Accuracy: 1.0 \n",
      "\n",
      "Classification Report:\n",
      "\n",
      "               precision    recall  f1-score   support\n",
      "\n",
      "           0       1.00      1.00      1.00     49998\n",
      "           1       1.00      1.00      1.00     49502\n",
      "\n",
      "   micro avg       1.00      1.00      1.00     99500\n",
      "   macro avg       1.00      1.00      1.00     99500\n",
      "weighted avg       1.00      1.00      1.00     99500\n",
      " \n",
      "\n",
      "Confusion Matrix: \n",
      "\n",
      "               Pred False  Pred True\n",
      "Actual False       49992          6\n",
      "Actual True            0      49502\n"
     ]
    },
    {
     "data": {
      "text/plain": [
       "0.9999396984924623"
      ]
     },
     "execution_count": 27,
     "metadata": {},
     "output_type": "execute_result"
    }
   ],
   "source": [
    "def random_classifier(df,\n",
    "                     predictor, \n",
    "                     print_output=True,\n",
    "                     min_sample_split=2):\n",
    "    \n",
    "    X = df.drop(labels=predictor,\n",
    "                        axis=1)\n",
    "\n",
    "    y = df[predictor]\n",
    "    \n",
    "    # Create test/train split with 30% in test set\n",
    "    X_train, X_test, y_train, y_test = train_test_split(X, \n",
    "                                                        y, \n",
    "                                                        test_size=0.5)\n",
    "    \n",
    "    #Initialize model\n",
    "    rand_forest = RandomForestClassifier(n_estimators=20, \n",
    "                                         min_samples_split=min_sample_split)\n",
    "   \n",
    "    # Fit training set\n",
    "    rand_forest.fit(X_train, y_train)\n",
    "    \n",
    "    # Get prediciton on test set\n",
    "    y_pred = rand_forest.predict(X_test)\n",
    "    \n",
    "    if print_output:\n",
    "        print('Test Accuracy:',\n",
    "              rand_forest.score(X_test, y_test),\n",
    "              '\\n',\n",
    "              'Train Accuracy:',\n",
    "              rand_forest.score(X_train, y_train),\n",
    "              '\\n\\nClassification Report:\\n\\n',\n",
    "              classification_report(y_test, y_pred),\n",
    "              '\\n\\nConfusion Matrix:',\n",
    "              '\\n\\n',\n",
    "              pd.DataFrame(confusion_matrix(y_pred, y_test)).rename(columns={1: 'Actual True',\n",
    "                                                               0: 'Actual False'}).T\\\n",
    "                                                      .rename(columns={1: 'Pred True',\n",
    "                                                               0: 'Pred False'}))\n",
    "    \n",
    "    return rand_forest.score(X_test, y_test), rand_forest\n",
    "    \n",
    "\n",
    "random_classifier(df=df_re,\n",
    "                  predictor='Class',\n",
    "                  print_output=True,\n",
    "                  min_sample_split=2)[0]"
   ]
  },
  {
   "cell_type": "code",
   "execution_count": 39,
   "metadata": {},
   "outputs": [
    {
     "name": "stdout",
     "output_type": "stream",
     "text": [
      "Test Accuracy: 0.999929648241206 \n",
      " Train Accuracy: 1.0 \n",
      "\n",
      "Classification Report:\n",
      "\n",
      "               precision    recall  f1-score   support\n",
      "\n",
      "           0       1.00      1.00      1.00     50041\n",
      "           1       1.00      1.00      1.00     49459\n",
      "\n",
      "   micro avg       1.00      1.00      1.00     99500\n",
      "   macro avg       1.00      1.00      1.00     99500\n",
      "weighted avg       1.00      1.00      1.00     99500\n",
      " \n",
      "\n",
      "Confusion Matrix: \n",
      "\n",
      "               Pred False  Pred True\n",
      "Actual False       50034          7\n",
      "Actual True            0      49459\n"
     ]
    },
    {
     "data": {
      "text/plain": [
       "[('V14', 0.25870202938971304),\n",
       " ('V10', 0.15598439646570447),\n",
       " ('V4', 0.11203556136485918),\n",
       " ('V3', 0.08520843335445973),\n",
       " ('V12', 0.06793714486177603),\n",
       " ('V17', 0.052508150330321544),\n",
       " ('V11', 0.04934706200566714),\n",
       " ('V16', 0.038823349552450745),\n",
       " ('V18', 0.02517239086928358),\n",
       " ('V6', 0.02158521219037096),\n",
       " ('V1', 0.020673409914517448),\n",
       " ('Amount', 0.012502665783144028),\n",
       " ('V20', 0.008613731229786334),\n",
       " ('V13', 0.007776683070874845),\n",
       " ('V15', 0.007367985447865812),\n",
       " ('V2', 0.006551123585673356),\n",
       " ('V19', 0.0063199222723994255),\n",
       " ('Time', 0.006269382836092416),\n",
       " ('V26', 0.006190339534307603),\n",
       " ('V21', 0.005779577419433253)]"
      ]
     },
     "execution_count": 39,
     "metadata": {},
     "output_type": "execute_result"
    }
   ],
   "source": [
    "rand_forest_model = random_classifier(df=df_re,\n",
    "                                      predictor='Class',\n",
    "                                      print_output=True,\n",
    "                                      min_sample_split=2)[1]\n",
    "X = df_re.drop('Class',\n",
    "               axis=1)\n",
    "\n",
    "sorted(zip(X.columns,rand_forest_model.feature_importances_),key = lambda x: x[1], reverse=True)[:10]"
   ]
  },
  {
   "cell_type": "code",
   "execution_count": 45,
   "metadata": {},
   "outputs": [
    {
     "name": "stdout",
     "output_type": "stream",
     "text": [
      "Test Accuracy: 0.9990753768844222 \n",
      " Train Accuracy: 0.9999798994974874 \n",
      "\n",
      "Classification Report:\n",
      "\n",
      "               precision    recall  f1-score   support\n",
      "\n",
      "           0       1.00      1.00      1.00     49691\n",
      "           1       1.00      1.00      1.00     49809\n",
      "\n",
      "   micro avg       1.00      1.00      1.00     99500\n",
      "   macro avg       1.00      1.00      1.00     99500\n",
      "weighted avg       1.00      1.00      1.00     99500\n",
      " \n",
      "\n",
      "Confusion Matrix: \n",
      "\n",
      "               Pred False  Pred True\n",
      "Actual False       49599         92\n",
      "Actual True            0      49809\n"
     ]
    },
    {
     "data": {
      "text/plain": [
       "0.9990753768844222"
      ]
     },
     "execution_count": 45,
     "metadata": {},
     "output_type": "execute_result"
    }
   ],
   "source": [
    "random_classifier(df=df_re[['V14',\n",
    "                           'Class']],\n",
    "                          predictor='Class',\n",
    "                          print_output=True,\n",
    "                          min_sample_split=2)[0]"
   ]
  },
  {
   "cell_type": "code",
   "execution_count": 66,
   "metadata": {},
   "outputs": [
    {
     "name": "stdout",
     "output_type": "stream",
     "text": [
      "GaussianNB Accuracy: 0.9327303182579565               precision    recall  f1-score   support\n",
      "\n",
      "           0       0.89      0.98      0.94     29910\n",
      "           1       0.98      0.88      0.93     29790\n",
      "\n",
      "   micro avg       0.93      0.93      0.93     59700\n",
      "   macro avg       0.94      0.93      0.93     59700\n",
      "weighted avg       0.94      0.93      0.93     59700\n",
      "\n"
     ]
    }
   ],
   "source": [
    "def Gaussian_NB(df,\n",
    "                predictor):  \n",
    "    \n",
    "    X = df.drop(labels=predictor,\n",
    "                        axis=1)\n",
    "\n",
    "    y = df[predictor]\n",
    "    \n",
    "    # Create test/train split with 30% in test set\n",
    "    X_train, X_test, y_train, y_test = train_test_split(X, \n",
    "                                                        y, \n",
    "                                                        test_size=0.3)\n",
    "    nb = GaussianNB()\n",
    "    nb.fit(X_train, y_train)\n",
    "    nb_score = (accuracy_score(y_test, nb.predict(X_test)))\n",
    "    # Get prediciton on test set\n",
    "    y_pred = nb.predict(X_test)\n",
    "    print('GaussianNB Accuracy: ' + str(nb_score),classification_report(y_test, nb.predict(X_test)))\n",
    "    return  pd.DataFrame(confusion_matrix(y_pred, y_test)).rename(columns={1: 'Actual True',\n",
    "                                                               0: 'Actual False'}).T\\\n",
    "                                                      .rename(columns={1: 'Pred True',\n",
    "                                                               0: 'Pred False'}), nb\n",
    "    \n",
    "    \n",
    "nb_model = Gaussian_NB(df=df_re[['V14','Amount','Time','Class']],\n",
    "            predictor='Class')"
   ]
  },
  {
   "cell_type": "code",
   "execution_count": 67,
   "metadata": {},
   "outputs": [
    {
     "data": {
      "text/html": [
       "<div>\n",
       "<style scoped>\n",
       "    .dataframe tbody tr th:only-of-type {\n",
       "        vertical-align: middle;\n",
       "    }\n",
       "\n",
       "    .dataframe tbody tr th {\n",
       "        vertical-align: top;\n",
       "    }\n",
       "\n",
       "    .dataframe thead th {\n",
       "        text-align: right;\n",
       "    }\n",
       "</style>\n",
       "<table border=\"1\" class=\"dataframe\">\n",
       "  <thead>\n",
       "    <tr style=\"text-align: right;\">\n",
       "      <th></th>\n",
       "      <th>Pred False</th>\n",
       "      <th>Pred True</th>\n",
       "    </tr>\n",
       "  </thead>\n",
       "  <tbody>\n",
       "    <tr>\n",
       "      <th>Actual False</th>\n",
       "      <td>29398</td>\n",
       "      <td>512</td>\n",
       "    </tr>\n",
       "    <tr>\n",
       "      <th>Actual True</th>\n",
       "      <td>3504</td>\n",
       "      <td>26286</td>\n",
       "    </tr>\n",
       "  </tbody>\n",
       "</table>\n",
       "</div>"
      ],
      "text/plain": [
       "              Pred False  Pred True\n",
       "Actual False       29398        512\n",
       "Actual True         3504      26286"
      ]
     },
     "execution_count": 67,
     "metadata": {},
     "output_type": "execute_result"
    }
   ],
   "source": [
    "nb_model[0]"
   ]
  },
  {
   "cell_type": "code",
   "execution_count": 77,
   "metadata": {},
   "outputs": [
    {
     "data": {
      "text/plain": [
       "array([[1.07278568e+00, 7.18346770e+04, 2.89581952e+08],\n",
       "       [1.88797523e+01, 6.86743794e+04, 3.10211292e+08]])"
      ]
     },
     "execution_count": 77,
     "metadata": {},
     "output_type": "execute_result"
    }
   ],
   "source": [
    "nb_model[1].sigma_"
   ]
  },
  {
   "cell_type": "code",
   "execution_count": 103,
   "metadata": {},
   "outputs": [],
   "source": [
    "def lr_classifier(df,\n",
    "                 predictor, \n",
    "                 print_output=True):\n",
    "    \n",
    "    X = df.drop(labels=predictor,\n",
    "                        axis=1)\n",
    "\n",
    "    y = df[predictor]\n",
    "\n",
    "    X_train, X_test, y_train, y_test = train_test_split(df_re.drop('Class', axis=1), df_re['Class'], test_size=0.3)\n",
    "\n",
    "    Lr = LogisticRegression(penalty = 'l2',\n",
    "                            dual=False, tol=0.0001,\n",
    "                            fit_intercept=True, \n",
    "                            intercept_scaling=1,\n",
    "                            C=20)\n",
    "    # Fit training set\n",
    "    Lr.fit(X_train, y_train)\n",
    "    \n",
    "    # Get prediciton on test set\n",
    "    y_pred =  Lr.predict(X_test)\n",
    "    \n",
    "    if print_output:\n",
    "        print('Test Accuracy:',\n",
    "               Lr.score(X_test, y_test),\n",
    "              '\\n',\n",
    "              'Train Accuracy:',\n",
    "               Lr.score(X_train, y_train),\n",
    "              '\\n\\nClassification Report:\\n\\n',\n",
    "              classification_report(y_test, y_pred),\n",
    "              '\\n\\nConfusion Matrix:',\n",
    "              '\\n\\n',\n",
    "              pd.DataFrame(confusion_matrix(y_pred, y_test)).rename(columns={1: 'Actual True',\n",
    "                                                               0: 'Actual False'}).T\\\n",
    "                                                      .rename(columns={1: 'Pred True',\n",
    "                                                               0: 'Pred False'}))\n",
    "    \n",
    "    return  Lr.score(X_test, y_test),  Lr"
   ]
  },
  {
   "cell_type": "code",
   "execution_count": 107,
   "metadata": {},
   "outputs": [
    {
     "name": "stderr",
     "output_type": "stream",
     "text": [
      "/usr/local/lib/python3.7/site-packages/sklearn/linear_model/logistic.py:433: FutureWarning: Default solver will be changed to 'lbfgs' in 0.22. Specify a solver to silence this warning.\n",
      "  FutureWarning)\n"
     ]
    },
    {
     "name": "stdout",
     "output_type": "stream",
     "text": [
      "Test Accuracy: 0.9561641541038526 \n",
      " Train Accuracy: 0.9556209619526203 \n",
      "\n",
      "Classification Report:\n",
      "\n",
      "               precision    recall  f1-score   support\n",
      "\n",
      "           0       0.94      0.97      0.96     29906\n",
      "           1       0.97      0.94      0.96     29794\n",
      "\n",
      "   micro avg       0.96      0.96      0.96     59700\n",
      "   macro avg       0.96      0.96      0.96     59700\n",
      "weighted avg       0.96      0.96      0.96     59700\n",
      " \n",
      "\n",
      "Confusion Matrix: \n",
      "\n",
      "               Pred False  Pred True\n",
      "Actual False       29126        780\n",
      "Actual True         1837      27957\n"
     ]
    }
   ],
   "source": [
    "logistic_model = lr_classifier(df=df_re[['V4','V11','Class']],\n",
    "                                      predictor='Class',\n",
    "                                      print_output=True)[1]"
   ]
  },
  {
   "cell_type": "code",
   "execution_count": 105,
   "metadata": {},
   "outputs": [
    {
     "data": {
      "text/plain": [
       "[('V4', 0.4069363954671096),\n",
       " ('V11', 0.11691498441149403),\n",
       " ('V21', 0.07688276702908342),\n",
       " ('V15', 0.06656470802285723),\n",
       " ('V5', 0.05864548728097507),\n",
       " ('V22', 0.054557449323371164),\n",
       " ('V2', 0.04859998891136505),\n",
       " ('V18', 0.03581295072659923),\n",
       " ('V23', 0.03460472992541454),\n",
       " ('V7', 0.016187787896918236)]"
      ]
     },
     "execution_count": 105,
     "metadata": {},
     "output_type": "execute_result"
    }
   ],
   "source": [
    "X = df_re.drop('Class',\n",
    "               axis=1)\n",
    "\n",
    "sorted(zip(list(df_re.drop('Class', axis=1).columns), list(logistic_model.coef_[0])),key = lambda x: x[1], reverse=True)[:10]"
   ]
  },
  {
   "cell_type": "code",
   "execution_count": null,
   "metadata": {},
   "outputs": [],
   "source": []
  }
 ],
 "metadata": {
  "kernelspec": {
   "display_name": "Python 3",
   "language": "python",
   "name": "python3"
  },
  "language_info": {
   "codemirror_mode": {
    "name": "ipython",
    "version": 3
   },
   "file_extension": ".py",
   "mimetype": "text/x-python",
   "name": "python",
   "nbconvert_exporter": "python",
   "pygments_lexer": "ipython3",
   "version": "3.7.3"
  }
 },
 "nbformat": 4,
 "nbformat_minor": 2
}
